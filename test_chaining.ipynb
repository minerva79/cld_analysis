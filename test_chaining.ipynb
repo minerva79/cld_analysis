{
 "cells": [
  {
   "cell_type": "code",
   "id": "initial_id",
   "metadata": {
    "collapsed": true,
    "ExecuteTime": {
     "end_time": "2024-12-30T06:52:41.062781Z",
     "start_time": "2024-12-30T06:52:41.057049Z"
    }
   },
   "source": [
    "system_message_1 = r\"\"\"\n",
    "You are a systems engineer tasked with analyzing text to identify variables and their causal relationships for constructing a Causal Loop Diagram (CLD). \n",
    "\n",
    "1. **Identify Primary Variables**  \n",
    "   - First, read through the original input text carefully.  \n",
    "   - Extract all key entities or components (e.g., “salesmen,” “orders,” “product delivery,” “revenue,” etc.).  \n",
    "   - If certain variables overlap or share commonalities, group them thematically (e.g., “sales workforce,” “budget,” “capacity,” etc.).  \n",
    "\n",
    "2. **Break Down Sub-Factors**  \n",
    "   - Within each primary variable, look for nuanced factors that might influence or be influenced by others (e.g., “delivery delay,” “acquisition delay,” “order backlog”).  \n",
    "---\n",
    "\n",
    "### Example of How to Apply This Prompt\n",
    "\n",
    "Example 1:\n",
    "**Input Excerpt**  \n",
    "```\n",
    "\"More chickens lay more eggs, which hatch and add to the chicken population.\n",
    "The more chickens, the more road crossing they will attempt. If there is any\n",
    "traffic, more road crossings will lead to fewer chickens.\"\n",
    "```\n",
    "\n",
    "**Output**  \n",
    "### Step 1: Identify Primary Variables  \n",
    "The key entities or components in the text are:  \n",
    "\n",
    "1. **Chickens**  \n",
    "2. **Eggs**  \n",
    "3. **Road Crossings**  \n",
    "4. **Traffic**  \n",
    "\n",
    "---\n",
    "\n",
    "### Step 2: Break Down Sub-Factors  \n",
    "\n",
    "For each primary variable, here are the nuanced sub-factors:  \n",
    "\n",
    "1. **Chickens**  \n",
    "   - Chicken population size  \n",
    "   - Chickens attempting to cross roads  \n",
    "\n",
    "2. **Eggs**  \n",
    "   - Number of eggs laid  \n",
    "   - Rate of eggs hatching  \n",
    "\n",
    "3. **Road Crossings**  \n",
    "   - Frequency of road crossing attempts by chickens  \n",
    "   - Success rate of road crossings  \n",
    "\n",
    "4. **Traffic**  \n",
    "   - Presence of traffic  \n",
    "   - Severity or density of traffic impacting road crossings  \n",
    "\n",
    "Let me know if you'd like further refinement of these factors or additional steps for mapping the causal relationships.\n",
    "\n",
    "Example 2:\n",
    "\n",
    "**Input Excerpt**  \n",
    "```\n",
    "\"Here is a situation in which salesmen book orders followed by\n",
    "product delivery which generates revenue which produces the sales\n",
    "budget which permits hiring still more salesmen. In short, salesmen\n",
    "produce revenue to pay for the further expansion of the sales\n",
    "effort. Orders booked increase the order backlog which increases the\n",
    "delivery delay which makes the product less attractive and reduces\n",
    "the order rate. The ordering of new production capacity is a\n",
    "function of delivery delay only. Rising order backlog, as indicated\n",
    "by delivery delay, is taken as an indication of inadequate capacity,\n",
    "and orders for more capacity are placed. These orders, after an\n",
    "acquisition delay, add to the production capacity. As the delivery\n",
    "delay rises, production capacity is raised to bring down the\n",
    "delivery delay.\"\n",
    "```\n",
    "\n",
    "**Output**  \n",
    "### Step 1: Identify Primary Variables  \n",
    "The key entities or components in the text are:  \n",
    "\n",
    "1. **Salesmen**  \n",
    "2. **Orders Booked**  \n",
    "3. **Order Backlog**  \n",
    "4. **Delivery Delay**  \n",
    "5. **Product Attractiveness**  \n",
    "6. **Order Rate**  \n",
    "7. **Revenue**  \n",
    "8. **Sales Budget**  \n",
    "9. **Production Capacity**  \n",
    "10. **Acquisition Delay**  \n",
    "\n",
    "---\n",
    "\n",
    "### Step 2: Break Down Sub-Factors  \n",
    "\n",
    "For each primary variable, here are the nuanced sub-factors:  \n",
    "\n",
    "1. **Salesmen**  \n",
    "   - Number of salesmen  \n",
    "   - Sales effort exerted  \n",
    "\n",
    "2. **Orders Booked**  \n",
    "   - Total number of orders booked  \n",
    "   - Rate at which orders are booked  \n",
    "\n",
    "3. **Order Backlog**  \n",
    "   - Accumulation of unfulfilled orders  \n",
    "   - Rate of backlog clearance  \n",
    "\n",
    "4. **Delivery Delay**  \n",
    "   - Time taken to fulfill orders  \n",
    "   - Dependency on production capacity  \n",
    "\n",
    "5. **Product Attractiveness**  \n",
    "   - Perceived value of the product  \n",
    "   - Sensitivity to delivery delay  \n",
    "\n",
    "6. **Order Rate**  \n",
    "   - Frequency of new orders placed  \n",
    "   - Dependency on product attractiveness  \n",
    "\n",
    "7. **Revenue**  \n",
    "   - Income generated from delivered orders  \n",
    "   - Dependency on order fulfillment  \n",
    "\n",
    "8. **Sales Budget**  \n",
    "   - Allocation of funds for sales operations  \n",
    "   - Dependency on revenue  \n",
    "\n",
    "9. **Production Capacity**  \n",
    "   - Total capacity to produce and fulfill orders  \n",
    "   - Dependency on acquisition of new capacity  \n",
    "\n",
    "10. **Acquisition Delay**  \n",
    "   - Time taken to procure and integrate new production capacity  \n",
    "   - Dependency on capacity orders  \n",
    "\"\"\""
   ],
   "outputs": [],
   "execution_count": 2
  },
  {
   "metadata": {
    "ExecuteTime": {
     "end_time": "2024-12-30T06:52:45.022140Z",
     "start_time": "2024-12-30T06:52:45.016096Z"
    }
   },
   "cell_type": "code",
   "source": [
    "system_message_2 = r\"\"\"\n",
    "You are a systems engineer tasked with analyzing text to identify variables and their causal relationships for constructing a Causal Loop Diagram (CLD). Follow these steps:\n",
    "\n",
    "3. **Map Causal Relationships**  \n",
    "   - For each pair of related variables, specify the relationship in the following format:  \n",
    "     \\[\n",
    "       [Variable A] --> ([+/-]) [Variable B]\n",
    "     \\]  \n",
    "     Use **(+)** if an increase in Variable A leads to an increase in Variable B. Use **(-)** if an increase in Variable A leads to a decrease in Variable B.  \n",
    "   - Provide your **Reasoning** next: Explain how you determined the relationship. If something in the original text supports or illustrates this cause-effect linkage, reference it.  \n",
    "   - Under **Relevant Text**, include the **exact sentence(s) or phrase(s)** from the original input text that justifies your relationship. Enclose these quotes clearly (e.g., in quotation marks).\n",
    "\n",
    "\n",
    "---\n",
    "\n",
    "**Output Format**\n",
    "\n",
    "For each relationship, follow this exact template:\n",
    "\n",
    "1. **[Variable A] --> ([+/-]) [Variable B]**  \n",
    "   **Reasoning:** [Explanation of how/why the relationship is positive or negative, referencing delays and any loops if applicable.]  \n",
    "   **Relevant Text:** [Exact quote(s) from the original text that substantiate this relationship.]\n",
    "\n",
    "---\n",
    "\n",
    "### Example of How to Apply This Prompt\n",
    "\n",
    "Example 1:\n",
    "**Input Excerpt**  \n",
    "```\n",
    "\"More chickens lay more eggs, which hatch and add to the chicken population.\n",
    "The more chickens, the more road crossing they will attempt. If there is any\n",
    "traffic, more road crossings will lead to fewer chickens.\"\n",
    "```\n",
    "\n",
    "**Output**  \n",
    "1. chickens --> (+) eggs  \n",
    "   Reasoning: Increased chickens lead to more eggs being laid.  \n",
    "   Relevant Text: \"More chickens lay more eggs...\"\n",
    "\n",
    "2. eggs --> (+) chickens  \n",
    "   Reasoning: Eggs hatch into chickens, thus increasing the chicken population.  \n",
    "   Relevant Text: \"...which hatch and add to the chicken population.\"\n",
    "\n",
    "3. road crossing --> (-) chickens  \n",
    "   Reasoning: More chickens crossing roads, combined with traffic, can lead to a decreased chicken population.  \n",
    "   Relevant Text: \"If there is any traffic, more road crossings will lead to fewer chickens.\"\n",
    "\n",
    "Example 2:\n",
    "\n",
    "**Input Excerpt**  \n",
    "```\n",
    "\"Here is a situation in which salesmen book orders followed by\n",
    "product delivery which generates revenue which produces the sales\n",
    "budget which permits hiring still more salesmen. In short, salesmen\n",
    "produce revenue to pay for the further expansion of the sales\n",
    "effort. Orders booked increase the order backlog which increases the\n",
    "delivery delay which makes the product less attractive and reduces\n",
    "the order rate. The ordering of new production capacity is a\n",
    "function of delivery delay only. Rising order backlog, as indicated\n",
    "by delivery delay, is taken as an indication of inadequate capacity,\n",
    "and orders for more capacity are placed. These orders, after an\n",
    "acquisition delay, add to the production capacity. As the delivery\n",
    "delay rises, production capacity is raised to bring down the\n",
    "delivery delay.\"\n",
    "```\n",
    "\n",
    "**Output**  \n",
    "1. Salesmen --> (+) Orders booked\n",
    "Reasoning: Salesmen are responsible for booking orders which lead to\n",
    "revenue generation.\n",
    "Relevant Text: Here is a situation in which salesmen book orders\n",
    "followed by product delivery which generates revenue which produces the\n",
    "sales budget which permits hiring still more salesmen.\n",
    "2. Revenue --> (+) Sales budget\n",
    "Reasoning: Revenue generated from orders booked contributes to the\n",
    "sales budget.\n",
    "Relevant Text: Here is a situation in which salesmen book orders\n",
    "followed by product delivery which generates revenue which produces the\n",
    "sales budget which permits hiring still more salesmen.\n",
    "3. Sales budget --> (+) Salesmen\n",
    "Reasoning: The sales budget allows for the hiring of more salesmen,\n",
    "expanding the sales effort.\n",
    "Relevant Text: Here is a situation in which salesmen book orders\n",
    "followed by product delivery which generates revenue which produces the\n",
    "sales budget which permits hiring still more salesmen.\n",
    "4. Orders booked --> (+) Order backlog\n",
    "Reasoning: Orders booked contribute to the order backlog.\n",
    "Relevant Text: Orders booked increase the order backlog which increases\n",
    "the delivery delay which makes the product less attractive and reduces\n",
    "the order rate.\n",
    "5. Order backlog --> (+) Delivery delay\n",
    "Reasoning: An increase in order backlog leads to longer delivery\n",
    "delays.\n",
    "Relevant Text: As the delivery delay rises, production capacity is\n",
    "raised to bring down the delivery delay.\n",
    "6. Delivery delay --> (-) Product attractiveness\n",
    "Reasoning: Longer delivery delays make the product less attractive to\n",
    "customers.\n",
    "Relevant Text: Orders booked increase the order backlog which increases\n",
    "the delivery delay which makes the product less attractive and reduces\n",
    "the order rate.\n",
    "7. Product attractiveness --> (-) Order rate\n",
    "Reasoning: Reduced product attractiveness leads to a decrease in the\n",
    "order rate.\n",
    "Relevant Text: Orders booked increase the order backlog which increases\n",
    "the delivery delay which makes the product less attractive and reduces\n",
    "the order rate.\n",
    "8. Delivery delay --> (+) Capacity orders\n",
    "Reasoning: The decision to order new production capacity is based on\n",
    "the current delivery delay.\n",
    "Relevant Text: The ordering of new production capacity is a function of\n",
    "delivery delay only.\n",
    "9. Delivery delay --> (+) Capacity orders\n",
    "Reasoning: Delivery delay is used as an indicator of inadequate\n",
    "capacity, prompting orders for more capacity.\n",
    "Relevant Text: Rising order backlog, as indicated by delivery delay, is\n",
    "taken as an indication of inadequate capacity, and orders for more\n",
    "capacity are placed.\n",
    "10. Capacity orders --> (+) Production capacity\n",
    "Reasoning: After an acquisition delay, the ordered capacity adds to the\n",
    "existing production capacity.\n",
    "Relevant Text: These orders, after an acquisition delay, add to the\n",
    "production capacity.\n",
    "11. Delivery delay --> (+) Production capacity\n",
    "Reasoning: As delivery delay increases, production capacity is raised\n",
    "to reduce the delivery delay.\n",
    "Relevant Text: As the delivery delay rises, production capacity is\n",
    "raised to bring down the delivery delay.\n",
    "12. Production capacity --> (-) Delivery delay\n",
    "Reasoning: Increased production capacity should reduce the delivery\n",
    "delay.\n",
    "Relevant Text: As the delivery delay rises, production capacity is\n",
    "raised to bring down the delivery delay.\n",
    "13. Order rate --> (-) Orders booked\n",
    "Reasoning: Decreased order rate leads to fewer orders booked.\n",
    "Relevant Text: Orders booked increase the order backlog which increases\n",
    "the delivery delay which makes the product less attractive and reduces\n",
    "the order rate.\n",
    "14. Orders booked --> (-) Revenue\n",
    "Reasoning: Fewer orders booked would lead to a decrease in revenue.\n",
    "Relevant Text: Here is a situation in which salesmen book orders\n",
    "followed by product delivery which generates revenue which produces the\n",
    "sales budget which permits hiring still more salesmen.\n",
    "\"\"\""
   ],
   "id": "d87048da804bf6e4",
   "outputs": [],
   "execution_count": 3
  },
  {
   "metadata": {
    "ExecuteTime": {
     "end_time": "2024-12-30T06:52:49.990521Z",
     "start_time": "2024-12-30T06:52:49.985608Z"
    }
   },
   "cell_type": "code",
   "source": [
    "system_message_3 = r\"\"\"\n",
    "You are a systems engineer tasked with analyzing text to identify variables and their causal relationships for constructing a Causal Loop Diagram (CLD). Follow these steps:\n",
    "\n",
    "4. **Add Feedback Loops**  \n",
    "   - Identify any cyclical cause-effect paths (e.g., “salesmen → revenue → budget → more salesmen”).  \n",
    "   - Label loops as either *Reinforcing (R)* or *Balancing (B)*, depending on whether they amplify or stabilize the system.  \n",
    "   - Include a short note on how the loop works overall, mentioning how the sign of relationships causes growth (reinforcing) or equilibrium (balancing).  \n",
    "\n",
    "5. **Account for Delays**  \n",
    "   - If the text mentions time delays in processes (e.g., “acquisition delay,” “delivery delay”), highlight them.  \n",
    "   - Explain how delays might shift or weaken the speed of the feedback loop’s response.  \n",
    "\n",
    "6. **Suggest Interventions**  \n",
    "   - Based on the relationships identified, propose one or more policy or managerial interventions that could alter the system’s outcome (e.g., “shorten acquisition delay,” “increase capacity earlier”).  \n",
    "\n",
    "---\n",
    "\n",
    "**Output Format**\n",
    "\n",
    "For each relationship, follow this exact template:\n",
    "\n",
    "- A consolidated **Feedback Loops** section, listing and labeling each loop (e.g., Loop R1, Loop B1) and a brief explanation of how it reinforces or balances the system.  \n",
    "- A brief note on **Delays**, describing their impact on the system.  \n",
    "- **Suggestions** or recommended interventions.  \n",
    "\n",
    "---\n",
    "\n",
    "### Example of How to Apply This Prompt\n",
    "\n",
    "Example 1:\n",
    "**Input Excerpt**  \n",
    "```\n",
    "\"More chickens lay more eggs, which hatch and add to the chicken population.\n",
    "The more chickens, the more road crossing they will attempt. If there is any\n",
    "traffic, more road crossings will lead to fewer chickens.\"\n",
    "```\n",
    "\n",
    "**Output**  \n",
    "Feedback Loops\n",
    "\n",
    "    Loop R1 (Reinforcing):\n",
    "    Path: chickens → (+) eggs → (+) chickens\n",
    "    Explanation: This reinforcing loop demonstrates growth in the chicken population as more chickens lay eggs, which hatch and further increase the population.\n",
    "\n",
    "    Loop B1 (Balancing):\n",
    "    Path: chickens → (+) road crossing → (-) chickens\n",
    "    Explanation: This balancing loop acts to stabilize or decrease the chicken population. As the number of chickens grows, road crossings increase, and traffic reduces the chicken population.\n",
    "\n",
    "Delays\n",
    "\n",
    "There may be a time delay between:\n",
    "\n",
    "    Eggs being laid and chickens hatching. This delay slows the impact of the reinforcing loop (R1).\n",
    "    Chickens crossing roads and the population being reduced due to traffic. This could introduce a lag in the balancing loop (B1).\n",
    "\n",
    "Suggestions\n",
    "\n",
    "    Minimize Road Crossing: Implement barriers or safe crossing zones to reduce traffic-related chicken losses.\n",
    "    Manage Population Growth: Introduce measures to control the chicken population (e.g., regulating egg production) to avoid overpopulation and excessive road crossings.\n",
    "\n",
    "Example 2:\n",
    "\n",
    "**Input Excerpt**  \n",
    "```\n",
    "\"Here is a situation in which salesmen book orders followed by\n",
    "product delivery which generates revenue which produces the sales\n",
    "budget which permits hiring still more salesmen. In short, salesmen\n",
    "produce revenue to pay for the further expansion of the sales\n",
    "effort. Orders booked increase the order backlog which increases the\n",
    "delivery delay which makes the product less attractive and reduces\n",
    "the order rate. The ordering of new production capacity is a\n",
    "function of delivery delay only. Rising order backlog, as indicated\n",
    "by delivery delay, is taken as an indication of inadequate capacity,\n",
    "and orders for more capacity are placed. These orders, after an\n",
    "acquisition delay, add to the production capacity. As the delivery\n",
    "delay rises, production capacity is raised to bring down the\n",
    "delivery delay.\"\n",
    "```\n",
    "\n",
    "**Output**  \n",
    "Feedback Loops\n",
    "\n",
    "    Loop R1 (Reinforcing): Sales Effort Expansion\n",
    "    Path: salesmen → (+) orders booked → (+) revenue → (+) sales budget → (+) salesmen\n",
    "    Explanation: This reinforcing loop shows how sales revenue funds the hiring of more salesmen, leading to further growth in sales.\n",
    "\n",
    "    Loop B1 (Balancing): Delivery Delay Impact on Orders\n",
    "    Path: orders booked → (+) order backlog → (+) delivery delay → (-) order rate → (-) orders booked\n",
    "    Explanation: This balancing loop highlights how rising delivery delays reduce the order rate, limiting further growth in orders.\n",
    "\n",
    "    Loop B2 (Balancing): Capacity Adjustment\n",
    "    Path: delivery delay → (+) production capacity orders → (+) production capacity (after delay) → (-) delivery delay\n",
    "    Explanation: This balancing loop regulates delivery delay by adjusting production capacity.\n",
    "\n",
    "Delays\n",
    "\n",
    "    Acquisition Delay: There is a delay between placing orders for new production capacity and when it becomes operational.\n",
    "    Delivery Delay: Time is required to clear the backlog of orders, impacting customer satisfaction and order rates.\n",
    "\n",
    "Suggestions\n",
    "\n",
    "    Improve Delivery Times: Invest in production process optimization to reduce delivery delays and retain customer interest.\n",
    "    Forecast Capacity Needs: Use predictive analytics to anticipate production needs and order capacity proactively, reducing dependency on reactionary measures.\n",
    "    Balance Sales Growth with Delivery Efficiency: Ensure that sales growth does not outpace production capacity to avoid excessive delivery delays.\n",
    "\"\"\""
   ],
   "id": "f34330b0a2da0269",
   "outputs": [],
   "execution_count": 4
  },
  {
   "metadata": {
    "ExecuteTime": {
     "end_time": "2024-12-30T06:52:53.425243Z",
     "start_time": "2024-12-30T06:52:53.421639Z"
    }
   },
   "cell_type": "code",
   "source": [
    "# List of system messages for easier looping\n",
    "system_messages = [system_message_1, system_message_2, system_message_3]\n"
   ],
   "id": "97979b3faebc63a7",
   "outputs": [],
   "execution_count": 5
  },
  {
   "metadata": {
    "ExecuteTime": {
     "end_time": "2024-12-30T06:52:55.257570Z",
     "start_time": "2024-12-30T06:52:55.253889Z"
    }
   },
   "cell_type": "code",
   "source": [
    "case = r\"\"\"\n",
    "    Patient Information\n",
    "\n",
    "    Patient Name: Mr. Smith\n",
    "    Patient ID: 789456\n",
    "    Date of Birth: 06/25/1965\n",
    "    Date of Examination: 03/15/2024\n",
    "\n",
    "MRI Examination Details\n",
    "\n",
    "    MRI Technique: Multi-parametric MRI with T2-weighted images, diffusion-weighted imaging (DWI), and dynamic contrast-enhanced (DCE) MRI.\n",
    "    Prostate Volume: 45 cc\n",
    "    PSA Level: 5.8 ng/mL\n",
    "\n",
    "MRI Findings\n",
    "\n",
    "    Lesion 1: Located in the left peripheral zone, mid gland. It shows significant restricted diffusion with a corresponding low ADC value and focal early enhancement on DCE MRI. PI-RADS Score: 5.\n",
    "    Lesion 2: Located in the right peripheral zone, apex. It has mildly restricted diffusion and no significant enhancement on DCE MRI. PI-RADS Score: 3.\n",
    "    Lesion 3: Located in the anterior fibromuscular stroma, showing moderate restricted diffusion and no early enhancement. PI-RADS Score: 3.\"\"\""
   ],
   "id": "b43ff231adef1d66",
   "outputs": [],
   "execution_count": 6
  },
  {
   "metadata": {
    "ExecuteTime": {
     "end_time": "2024-12-30T06:52:59.363242Z",
     "start_time": "2024-12-30T06:52:58.355897Z"
    }
   },
   "cell_type": "code",
   "source": [
    "from openai import OpenAI\n",
    "\n",
    "# Define the function\n",
    "def process_case_study(case_study, system_messages, model=\"chatgpt-4o-latest\", temperature=0.1):\n",
    "    \"\"\"\n",
    "    Process a case study through a series of chained prompts using OpenAI's API.\n",
    "    \n",
    "    Parameters:\n",
    "    - case_study (str): The case study text to process.\n",
    "    - system_messages (list): List of system messages to structure the prompts.\n",
    "    - model (str): The GPT model to use. Default is \"chatgpt-4o-latest\".\n",
    "    - temperature (float): The creativity level of the model's responses. Default is 0.1.\n",
    "    \n",
    "    Returns:\n",
    "    - dict: A dictionary containing responses for each stage and the final output.\n",
    "    \"\"\"\n",
    "    # Initialize the messages and responses\n",
    "    messages = []\n",
    "    responses = {}\n",
    "\n",
    "    client = OpenAI()\n",
    "\n",
    "    # Loop through the system messages\n",
    "    for i, system_message in enumerate(system_messages, start=1):\n",
    "        # Update messages for the current stage\n",
    "        if i == 1:\n",
    "            messages = [\n",
    "                {\"role\": \"system\", \"content\": system_message},\n",
    "                {\"role\": \"user\", \"content\": case_study},\n",
    "            ]\n",
    "        else:\n",
    "            messages = [\n",
    "                {\"role\": \"system\", \"content\": system_message},\n",
    "                {\"role\": \"user\", \"content\": case_study + \"\".join(responses[f\"Stage_{j}\"] for j in range(1, i))},\n",
    "            ]\n",
    "\n",
    "        # Make the API call\n",
    "        response = client.chat.completions.create(\n",
    "            model=model,\n",
    "            messages=messages,\n",
    "            temperature=temperature,\n",
    "        )\n",
    "\n",
    "        # Extract the response content\n",
    "        assistant_reply = response.choices[0].message.content\n",
    "        responses[f\"Stage_{i}\"] = assistant_reply\n",
    "\n",
    "    # Combine all responses for the final output\n",
    "    final_output = case_study + \"\".join(responses.values())\n",
    "    responses[\"Final_Output\"] = final_output\n",
    "\n",
    "    return responses\n"
   ],
   "id": "26c766eaf7ad6b08",
   "outputs": [],
   "execution_count": 7
  },
  {
   "metadata": {
    "ExecuteTime": {
     "end_time": "2024-12-30T03:54:01.494431Z",
     "start_time": "2024-12-30T03:53:39.670580Z"
    }
   },
   "cell_type": "code",
   "source": [
    "# Call the function\n",
    "responses = process_case_study(case, system_messages)\n",
    "\n",
    "# Print the final output\n",
    "print(\"Final Output:\\n\", responses[\"Final_Output\"])"
   ],
   "id": "24a57cae98a27987",
   "outputs": [
    {
     "name": "stdout",
     "output_type": "stream",
     "text": [
      "Final Output:\n",
      " \n",
      "    Patient Information\n",
      "\n",
      "    Patient Name: Mr. Smith\n",
      "    Patient ID: 789456\n",
      "    Date of Birth: 06/25/1965\n",
      "    Date of Examination: 03/15/2024\n",
      "\n",
      "MRI Examination Details\n",
      "\n",
      "    MRI Technique: Multi-parametric MRI with T2-weighted images, diffusion-weighted imaging (DWI), and dynamic contrast-enhanced (DCE) MRI.\n",
      "    Prostate Volume: 45 cc\n",
      "    PSA Level: 5.8 ng/mL\n",
      "\n",
      "MRI Findings\n",
      "\n",
      "    Lesion 1: Located in the left peripheral zone, mid gland. It shows significant restricted diffusion with a corresponding low ADC value and focal early enhancement on DCE MRI. PI-RADS Score: 5.\n",
      "    Lesion 2: Located in the right peripheral zone, apex. It has mildly restricted diffusion and no significant enhancement on DCE MRI. PI-RADS Score: 3.\n",
      "    Lesion 3: Located in the anterior fibromuscular stroma, showing moderate restricted diffusion and no early enhancement. PI-RADS Score: 3.### Step 1: Identify Primary Variables  \n",
      "The key entities or components in the text are:  \n",
      "\n",
      "1. **Patient Information**  \n",
      "   - Patient Name  \n",
      "   - Patient ID  \n",
      "   - Date of Birth  \n",
      "   - Date of Examination  \n",
      "\n",
      "2. **MRI Technique**  \n",
      "   - Multi-parametric MRI  \n",
      "   - T2-weighted images  \n",
      "   - Diffusion-weighted imaging (DWI)  \n",
      "   - Dynamic contrast-enhanced (DCE) MRI  \n",
      "\n",
      "3. **Prostate Volume**  \n",
      "   - Measured in cubic centimeters (cc)  \n",
      "\n",
      "4. **PSA Level**  \n",
      "   - Prostate-Specific Antigen level (ng/mL)  \n",
      "\n",
      "5. **Lesions**  \n",
      "   - Lesion 1: Left peripheral zone, mid gland  \n",
      "   - Lesion 2: Right peripheral zone, apex  \n",
      "   - Lesion 3: Anterior fibromuscular stroma  \n",
      "\n",
      "6. **PI-RADS Score**  \n",
      "   - Lesion 1: PI-RADS 5  \n",
      "   - Lesion 2: PI-RADS 3  \n",
      "   - Lesion 3: PI-RADS 3  \n",
      "\n",
      "---\n",
      "\n",
      "### Step 2: Break Down Sub-Factors  \n",
      "\n",
      "For each primary variable, here are the nuanced sub-factors:  \n",
      "\n",
      "1. **Patient Information**  \n",
      "   - Patient demographics (e.g., age, name, ID)  \n",
      "   - Examination date  \n",
      "\n",
      "2. **MRI Technique**  \n",
      "   - Imaging modalities used (T2-weighted, DWI, DCE)  \n",
      "   - Multi-parametric approach  \n",
      "\n",
      "3. **Prostate Volume**  \n",
      "   - Total prostate size (45 cc)  \n",
      "\n",
      "4. **PSA Level**  \n",
      "   - PSA value (5.8 ng/mL)  \n",
      "   - Potential indicator of prostate abnormalities  \n",
      "\n",
      "5. **Lesions**  \n",
      "   - **Lesion 1**:  \n",
      "     - Location: Left peripheral zone, mid gland  \n",
      "     - Imaging characteristics: Significant restricted diffusion, low ADC value, focal early enhancement  \n",
      "     - PI-RADS Score: 5 (high suspicion of clinically significant cancer)  \n",
      "   - **Lesion 2**:  \n",
      "     - Location: Right peripheral zone, apex  \n",
      "     - Imaging characteristics: Mildly restricted diffusion, no significant enhancement  \n",
      "     - PI-RADS Score: 3 (intermediate suspicion)  \n",
      "   - **Lesion 3**:  \n",
      "     - Location: Anterior fibromuscular stroma  \n",
      "     - Imaging characteristics: Moderate restricted diffusion, no early enhancement  \n",
      "     - PI-RADS Score: 3 (intermediate suspicion)  \n",
      "\n",
      "6. **PI-RADS Score**  \n",
      "   - Scoring system for prostate lesions based on MRI findings  \n",
      "   - Higher scores indicate higher suspicion of clinically significant prostate cancer  \n",
      "\n",
      "---\n",
      "\n",
      "This breakdown provides a structured understanding of the variables and their sub-factors, which can be used to analyze causal relationships or construct a diagnostic framework. Let me know if you'd like further analysis!### Step 3: Map Causal Relationships  \n",
      "\n",
      "Based on the provided information, here are the causal relationships between the identified variables:\n",
      "\n",
      "---\n",
      "\n",
      "1. **Prostate Volume --> (+) PSA Level**  \n",
      "   **Reasoning:** Larger prostate volumes are often associated with higher PSA levels, as the prostate produces PSA.  \n",
      "   **Relevant Text:** \"Prostate Volume: 45 cc\" and \"PSA Level: 5.8 ng/mL.\"\n",
      "\n",
      "---\n",
      "\n",
      "2. **PSA Level --> (+) PI-RADS Score**  \n",
      "   **Reasoning:** Elevated PSA levels can indicate a higher likelihood of clinically significant prostate cancer, which is reflected in higher PI-RADS scores for lesions.  \n",
      "   **Relevant Text:** \"PSA Level: 5.8 ng/mL\" and \"Lesion 1: PI-RADS Score: 5.\"\n",
      "\n",
      "---\n",
      "\n",
      "3. **MRI Technique --> (+) Lesion Detection**  \n",
      "   **Reasoning:** The use of multi-parametric MRI, including T2-weighted, DWI, and DCE imaging, enhances the ability to detect and characterize prostate lesions.  \n",
      "   **Relevant Text:** \"MRI Technique: Multi-parametric MRI with T2-weighted images, diffusion-weighted imaging (DWI), and dynamic contrast-enhanced (DCE) MRI.\"\n",
      "\n",
      "---\n",
      "\n",
      "4. **Lesion Characteristics --> (+) PI-RADS Score**  \n",
      "   **Reasoning:** Lesion characteristics such as restricted diffusion, low ADC values, and focal early enhancement contribute to higher PI-RADS scores, indicating a higher suspicion of clinically significant cancer.  \n",
      "   **Relevant Text:**  \n",
      "   - \"Lesion 1: Significant restricted diffusion with a corresponding low ADC value and focal early enhancement on DCE MRI. PI-RADS Score: 5.\"  \n",
      "   - \"Lesion 2: Mildly restricted diffusion and no significant enhancement on DCE MRI. PI-RADS Score: 3.\"  \n",
      "   - \"Lesion 3: Moderate restricted diffusion and no early enhancement. PI-RADS Score: 3.\"\n",
      "\n",
      "---\n",
      "\n",
      "5. **PI-RADS Score --> (+) Cancer Suspicion**  \n",
      "   **Reasoning:** Higher PI-RADS scores are directly correlated with a higher suspicion of clinically significant prostate cancer.  \n",
      "   **Relevant Text:** \"PI-RADS Score: 5 (high suspicion of clinically significant cancer)\" and \"PI-RADS Score: 3 (intermediate suspicion).\"\n",
      "\n",
      "---\n",
      "\n",
      "6. **Lesion Location --> (+) Lesion Characteristics**  \n",
      "   **Reasoning:** The location of a lesion within the prostate (e.g., peripheral zone, anterior fibromuscular stroma) influences its imaging characteristics, such as diffusion restriction and enhancement patterns.  \n",
      "   **Relevant Text:**  \n",
      "   - \"Lesion 1: Located in the left peripheral zone, mid gland.\"  \n",
      "   - \"Lesion 2: Located in the right peripheral zone, apex.\"  \n",
      "   - \"Lesion 3: Located in the anterior fibromuscular stroma.\"\n",
      "\n",
      "---\n",
      "\n",
      "### Summary of Relationships  \n",
      "\n",
      "1. Prostate Volume --> (+) PSA Level  \n",
      "2. PSA Level --> (+) PI-RADS Score  \n",
      "3. MRI Technique --> (+) Lesion Detection  \n",
      "4. Lesion Characteristics --> (+) PI-RADS Score  \n",
      "5. PI-RADS Score --> (+) Cancer Suspicion  \n",
      "6. Lesion Location --> (+) Lesion Characteristics  \n",
      "\n",
      "These relationships can be used to construct a Causal Loop Diagram (CLD) to visualize the diagnostic process and factors influencing prostate cancer suspicion. Let me know if you'd like further assistance!### Step 4: Add Feedback Loops  \n",
      "\n",
      "Based on the causal relationships identified, here are the feedback loops present in the system:\n",
      "\n",
      "---\n",
      "\n",
      "#### Feedback Loops  \n",
      "\n",
      "1. **Loop R1 (Reinforcing): PSA Level and Cancer Suspicion**  \n",
      "   **Path:** Prostate Volume → (+) PSA Level → (+) PI-RADS Score → (+) Cancer Suspicion  \n",
      "   **Explanation:** As prostate volume increases, PSA levels rise, which can lead to higher PI-RADS scores and increased suspicion of clinically significant cancer. This loop reinforces the diagnostic focus on patients with larger prostates and higher PSA levels.  \n",
      "\n",
      "2. **Loop R2 (Reinforcing): MRI Technique and Lesion Detection**  \n",
      "   **Path:** MRI Technique → (+) Lesion Detection → (+) Lesion Characteristics → (+) PI-RADS Score → (+) Cancer Suspicion  \n",
      "   **Explanation:** The use of advanced MRI techniques improves lesion detection and characterization, leading to higher PI-RADS scores and increased cancer suspicion. This loop reinforces the importance of high-quality imaging in identifying clinically significant lesions.  \n",
      "\n",
      "3. **Loop B1 (Balancing): Lesion Location and Cancer Suspicion**  \n",
      "   **Path:** Lesion Location → (+) Lesion Characteristics → (+) PI-RADS Score → (+) Cancer Suspicion → (-) Lesion Location (targeted biopsy or treatment)  \n",
      "   **Explanation:** As lesions with high PI-RADS scores are identified and targeted for biopsy or treatment, the number of suspicious lesions in specific locations decreases, balancing the system by reducing cancer suspicion over time.  \n",
      "\n",
      "---\n",
      "\n",
      "### Step 5: Account for Delays  \n",
      "\n",
      "1. **PSA Level and Cancer Suspicion Delay:**  \n",
      "   - There may be a delay between an increase in PSA levels and the identification of suspicious lesions through imaging or biopsy. This delay can slow the diagnostic process and potentially impact early detection.  \n",
      "\n",
      "2. **MRI Technique and Lesion Detection Delay:**  \n",
      "   - The time required to perform and interpret multi-parametric MRI scans introduces a delay in lesion detection and characterization. This delay can affect the speed of diagnosis and subsequent treatment planning.  \n",
      "\n",
      "3. **Biopsy or Treatment Delay:**  \n",
      "   - After lesions are identified and cancer suspicion is raised, there may be a delay in performing biopsies or initiating treatment, which can impact patient outcomes.  \n",
      "\n",
      "---\n",
      "\n",
      "### Step 6: Suggestions  \n",
      "\n",
      "1. **Optimize PSA Screening Protocols:**  \n",
      "   - Implement more frequent or targeted PSA screenings for patients with larger prostate volumes to identify potential abnormalities earlier.  \n",
      "\n",
      "2. **Enhance MRI Accessibility and Efficiency:**  \n",
      "   - Invest in faster and more accessible MRI technology to reduce delays in lesion detection and characterization.  \n",
      "\n",
      "3. **Prioritize High PI-RADS Lesions:**  \n",
      "   - Focus diagnostic and treatment efforts on lesions with higher PI-RADS scores (e.g., PI-RADS 5) to address the most clinically significant cases promptly.  \n",
      "\n",
      "4. **Streamline Biopsy and Treatment Processes:**  \n",
      "   - Reduce delays in biopsy scheduling and treatment initiation by improving coordination between radiologists, urologists, and oncologists.  \n",
      "\n",
      "5. **Develop Predictive Models:**  \n",
      "   - Use machine learning models to predict cancer risk based on PSA levels, prostate volume, and lesion characteristics, enabling earlier and more accurate interventions.  \n",
      "\n",
      "---\n",
      "\n",
      "This analysis provides a comprehensive understanding of the system dynamics involved in prostate cancer diagnosis and offers actionable recommendations to improve outcomes. Let me know if you'd like further clarification or additional insights!\n"
     ]
    }
   ],
   "execution_count": 26
  },
  {
   "metadata": {
    "ExecuteTime": {
     "end_time": "2024-12-30T06:53:02.012021Z",
     "start_time": "2024-12-30T06:53:02.007133Z"
    }
   },
   "cell_type": "code",
   "source": [
    "def call_openai_for_cld(responses):\n",
    "    \"\"\"\n",
    "    Use OpenAI API to extract causal relationships and feedback loops.\n",
    "    \"\"\"\n",
    "    # Define system prompt for extracting Graphviz-compatible data\n",
    "    system_message_out = r'''\n",
    "\tYou are an expert in generating Graphviz scripts to visualize causal relationships in a Causal Loop Diagram (CLD). \n",
    "\t\n",
    "\tFollow these steps:\n",
    "\t\n",
    "\t1. **Extract Relationships**:\n",
    "\t   - Identify causal relationships from the provided text.\n",
    "\t   - Each relationship should include a source node, a target node, and an edge sign (e.g., (+) or (-)).\n",
    "\t\n",
    "\t2. **Identify Feedback Loops**:\n",
    "\t   - Detect reinforcing (R) or balancing (B) loops in the relationships.\n",
    "\t   - Clearly label the loops in the Graphviz diagram.\n",
    "\t\n",
    "\t3. **Generate a Graphviz Script**:\n",
    "\t   - Use the `digraph` format to create a Graphviz script that visualizes the causal relationships and feedback loops.\n",
    "\t   - Ensure nodes are connected with directional arrows and labeled with the sign of the relationship (+ or -).\n",
    "\t   - Clearly label each feedback loop (e.g., `Loop R1`, `Loop B1`) near the relevant relationships.\n",
    "\t\n",
    "\t4. **Output Format**:\n",
    "\t   digraph CausalLoopDiagram {rankdir=LR; // Optional: Left-to-right layout\n",
    "\t   // Define nodes and relationships\n",
    "\t   \"Node A\" -> \"Node B\" [label=\"+\"];\n",
    "\t   \"Node B\" -> \"Node C\" [label=\"-\"];\n",
    "\t   \"Node C\" -> \"Node A\" [label=\"+\"];\n",
    "\t\n",
    "\t   // Label feedback loops\n",
    "\t   \"Loop R1\" [shape=plaintext, label=\"Reinforcing Loop R1\"];\n",
    "\t   \"Node A\" -> \"Loop R1\" [style=dotted];\n",
    "\t   }\n",
    "\t\n",
    "\tGenerate the Graphviz script directly as shown in the output format. Ensure it is syntactically correct and can be rendered by Graphviz without additional edits.\n",
    "\t\n",
    "\t'''\n",
    "\n",
    "    # OpenAI API call\n",
    "    messages = [\n",
    "        {\"role\": \"system\", \"content\": system_message_out},\n",
    "        {\"role\": \"user\", \"content\": responses}\n",
    "    ]\n",
    "\n",
    "    client = OpenAI()  # Replace with your OpenAI client initialization\n",
    "    response = client.chat.completions.create(\n",
    "        model=\"chatgpt-4o-latest\",\n",
    "        messages=messages,\n",
    "        temperature=0.1,\n",
    "    )\n",
    "\n",
    "    # Extract response content\n",
    "    return response.choices[0].message.content\n"
   ],
   "id": "322b02075bb98297",
   "outputs": [],
   "execution_count": 8
  },
  {
   "metadata": {
    "ExecuteTime": {
     "end_time": "2024-12-30T06:53:11.465130Z",
     "start_time": "2024-12-30T06:53:11.431465Z"
    }
   },
   "cell_type": "code",
   "source": [
    "import re\n",
    "from graphviz import Source\n",
    "\n",
    "# Define a function to extract the Graphviz script\n",
    "def extract_graphviz_script(openai_output):\n",
    "    \"\"\"\n",
    "    Extracts the Graphviz script from OpenAI's output.\n",
    "    \"\"\"\n",
    "    match = re.search(r\"```dot(.*?)```\", openai_output, re.DOTALL)\n",
    "    if match:\n",
    "        return match.group(1).strip()\n",
    "    else:\n",
    "        raise ValueError(\"No Graphviz script found in the output.\")\n",
    "\n",
    "\n",
    "def render_graphviz(script, output_file=\"causal_loop_diagram\"):\n",
    "    \"\"\"\n",
    "    Renders the Graphviz script into a diagram.\n",
    "    \"\"\"\n",
    "    src = Source(script)\n",
    "    src.render(output_file, format='png', cleanup=True)\n",
    "    return src\n",
    "\n"
   ],
   "id": "5663e50d48207f57",
   "outputs": [],
   "execution_count": 9
  },
  {
   "metadata": {
    "ExecuteTime": {
     "end_time": "2024-12-30T04:21:22.689518Z",
     "start_time": "2024-12-30T04:21:14.071826Z"
    }
   },
   "cell_type": "code",
   "source": [
    "openai_output = call_openai_for_cld(responses[\"Final_Output\"])\n",
    "print(openai_output)"
   ],
   "id": "d7c67e242f4ce54d",
   "outputs": [
    {
     "name": "stdout",
     "output_type": "stream",
     "text": [
      "### Step 7: Generate Graphviz Script  \n",
      "\n",
      "Below is the Graphviz script to visualize the causal relationships and feedback loops identified in the analysis:\n",
      "\n",
      "```dot\n",
      "digraph CausalLoopDiagram {\n",
      "    rankdir=LR; // Left-to-right layout for better readability\n",
      "\n",
      "    // Define nodes and relationships\n",
      "    \"Prostate Volume\" -> \"PSA Level\" [label=\"+\"];\n",
      "    \"PSA Level\" -> \"PI-RADS Score\" [label=\"+\"];\n",
      "    \"MRI Technique\" -> \"Lesion Detection\" [label=\"+\"];\n",
      "    \"Lesion Detection\" -> \"Lesion Characteristics\" [label=\"+\"];\n",
      "    \"Lesion Characteristics\" -> \"PI-RADS Score\" [label=\"+\"];\n",
      "    \"PI-RADS Score\" -> \"Cancer Suspicion\" [label=\"+\"];\n",
      "    \"Lesion Location\" -> \"Lesion Characteristics\" [label=\"+\"];\n",
      "\n",
      "    // Feedback Loops\n",
      "    // Reinforcing Loop R1\n",
      "    \"Loop R1\" [shape=plaintext, label=\"Reinforcing Loop R1\"];\n",
      "    \"Prostate Volume\" -> \"Loop R1\" [style=dotted];\n",
      "    \"Loop R1\" -> \"PSA Level\" [style=dotted];\n",
      "\n",
      "    // Reinforcing Loop R2\n",
      "    \"Loop R2\" [shape=plaintext, label=\"Reinforcing Loop R2\"];\n",
      "    \"MRI Technique\" -> \"Loop R2\" [style=dotted];\n",
      "    \"Loop R2\" -> \"Lesion Detection\" [style=dotted];\n",
      "\n",
      "    // Balancing Loop B1\n",
      "    \"Loop B1\" [shape=plaintext, label=\"Balancing Loop B1\"];\n",
      "    \"Lesion Location\" -> \"Loop B1\" [style=dotted];\n",
      "    \"Loop B1\" -> \"Cancer Suspicion\" [style=dotted];\n",
      "    \"Cancer Suspicion\" -> \"Lesion Location\" [label=\"-\", style=dotted];\n",
      "}\n",
      "```\n",
      "\n",
      "### Explanation of the Script  \n",
      "\n",
      "1. **Nodes and Relationships**:  \n",
      "   - Each variable (e.g., \"Prostate Volume\", \"PSA Level\") is represented as a node.  \n",
      "   - Arrows between nodes represent causal relationships, labeled with the sign of the relationship (`+` or `-`).  \n",
      "\n",
      "2. **Feedback Loops**:  \n",
      "   - Feedback loops are labeled as `Loop R1`, `Loop R2`, and `Loop B1`.  \n",
      "   - Dotted arrows connect the loops to the relevant nodes to indicate their influence.  \n",
      "\n",
      "3. **Reinforcing Loops**:  \n",
      "   - `Loop R1`: Prostate Volume → PSA Level → PI-RADS Score → Cancer Suspicion reinforces the diagnostic focus on patients with larger prostates and higher PSA levels.  \n",
      "   - `Loop R2`: MRI Technique → Lesion Detection → Lesion Characteristics → PI-RADS Score → Cancer Suspicion reinforces the importance of advanced imaging techniques.  \n",
      "\n",
      "4. **Balancing Loop**:  \n",
      "   - `Loop B1`: Lesion Location → Lesion Characteristics → PI-RADS Score → Cancer Suspicion → Lesion Location balances the system by reducing cancer suspicion as lesions are targeted for biopsy or treatment.  \n",
      "\n",
      "### Rendering the Diagram  \n",
      "\n",
      "To render the diagram:  \n",
      "\n",
      "1. Save the script as a `.dot` file (e.g., `causal_loop_diagram.dot`).  \n",
      "2. Use Graphviz to generate the visualization:  \n",
      "   ```bash\n",
      "   dot -Tpng causal_loop_diagram.dot -o causal_loop_diagram.png\n",
      "   ```  \n",
      "3. Open the generated `causal_loop_diagram.png` file to view the diagram.  \n",
      "\n",
      "Let me know if you need further assistance!\n"
     ]
    }
   ],
   "execution_count": 43
  },
  {
   "metadata": {
    "ExecuteTime": {
     "end_time": "2024-12-30T04:29:09.131766Z",
     "start_time": "2024-12-30T04:29:08.419064Z"
    }
   },
   "cell_type": "code",
   "source": [
    "graphviz_script = extract_graphviz_script(openai_output)\n",
    "\n",
    "# Render the diagram\n",
    "rendered_diagram = render_graphviz(graphviz_script)\n",
    "rendered_diagram.view()\n"
   ],
   "id": "3706d8e03dd840a3",
   "outputs": [
    {
     "data": {
      "text/plain": [
       "'causal_loop_diagram.pdf'"
      ]
     },
     "execution_count": 56,
     "metadata": {},
     "output_type": "execute_result"
    }
   ],
   "execution_count": 56
  },
  {
   "metadata": {
    "ExecuteTime": {
     "end_time": "2024-12-30T04:26:17.051560Z",
     "start_time": "2024-12-30T04:26:16.800461Z"
    }
   },
   "cell_type": "code",
   "source": "rendered_diagram",
   "id": "348d207ab57f9c31",
   "outputs": [
    {
     "data": {
      "image/svg+xml": "<?xml version=\"1.0\" encoding=\"UTF-8\" standalone=\"no\"?>\n<!DOCTYPE svg PUBLIC \"-//W3C//DTD SVG 1.1//EN\"\n \"http://www.w3.org/Graphics/SVG/1.1/DTD/svg11.dtd\">\n<!-- Generated by graphviz version 12.2.1 (20241206.2353)\n -->\n<!-- Title: CausalLoopDiagram Pages: 1 -->\n<svg width=\"1264pt\" height=\"222pt\"\n viewBox=\"0.00 0.00 1264.39 222.00\" xmlns=\"http://www.w3.org/2000/svg\" xmlns:xlink=\"http://www.w3.org/1999/xlink\">\n<g id=\"graph0\" class=\"graph\" transform=\"scale(1 1) rotate(0) translate(4 218)\">\n<title>CausalLoopDiagram</title>\n<polygon fill=\"white\" stroke=\"none\" points=\"-4,4 -4,-218 1260.39,-218 1260.39,4 -4,4\"/>\n<!-- Prostate Volume -->\n<g id=\"node1\" class=\"node\">\n<title>Prostate Volume</title>\n<ellipse fill=\"none\" stroke=\"black\" cx=\"71.82\" cy=\"-125\" rx=\"71.82\" ry=\"18\"/>\n<text text-anchor=\"middle\" x=\"71.82\" y=\"-119.95\" font-family=\"Times New Roman,serif\" font-size=\"14.00\">Prostate Volume</text>\n</g>\n<!-- PSA Level -->\n<g id=\"node2\" class=\"node\">\n<title>PSA Level</title>\n<ellipse fill=\"none\" stroke=\"black\" cx=\"400.74\" cy=\"-125\" rx=\"50.84\" ry=\"18\"/>\n<text text-anchor=\"middle\" x=\"400.74\" y=\"-119.95\" font-family=\"Times New Roman,serif\" font-size=\"14.00\">PSA Level</text>\n</g>\n<!-- Prostate Volume&#45;&gt;PSA Level -->\n<g id=\"edge1\" class=\"edge\">\n<title>Prostate Volume&#45;&gt;PSA Level</title>\n<path fill=\"none\" stroke=\"black\" d=\"M144.02,-125.7C195.85,-126.17 267.72,-126.76 330.9,-127 333.37,-127.01 335.9,-127 338.45,-126.99\"/>\n<polygon fill=\"black\" stroke=\"black\" points=\"338.27,-130.49 348.22,-126.86 338.18,-123.49 338.27,-130.49\"/>\n<text text-anchor=\"middle\" x=\"246.77\" y=\"-130.12\" font-family=\"Times New Roman,serif\" font-size=\"14.00\">+</text>\n</g>\n<!-- Loop R1 -->\n<g id=\"node9\" class=\"node\">\n<title>Loop R1</title>\n<text text-anchor=\"middle\" x=\"246.77\" y=\"-92.95\" font-family=\"Times New Roman,serif\" font-size=\"14.00\">Reinforcing Loop R1</text>\n</g>\n<!-- Prostate Volume&#45;&gt;Loop R1 -->\n<g id=\"edge8\" class=\"edge\">\n<title>Prostate Volume&#45;&gt;Loop R1</title>\n<path fill=\"none\" stroke=\"black\" stroke-dasharray=\"1,5\" d=\"M133.8,-115.48C145.3,-113.69 157.45,-111.79 169.35,-109.93\"/>\n<polygon fill=\"black\" stroke=\"black\" points=\"169.82,-113.4 179.16,-108.4 168.74,-106.48 169.82,-113.4\"/>\n</g>\n<!-- PI&#45;RADS Score -->\n<g id=\"node3\" class=\"node\">\n<title>PI&#45;RADS Score</title>\n<ellipse fill=\"none\" stroke=\"black\" cx=\"566.11\" cy=\"-125\" rx=\"70.29\" ry=\"18\"/>\n<text text-anchor=\"middle\" x=\"566.11\" y=\"-119.95\" font-family=\"Times New Roman,serif\" font-size=\"14.00\">PI&#45;RADS Score</text>\n</g>\n<!-- PSA Level&#45;&gt;PI&#45;RADS Score -->\n<g id=\"edge2\" class=\"edge\">\n<title>PSA Level&#45;&gt;PI&#45;RADS Score</title>\n<path fill=\"none\" stroke=\"black\" d=\"M451.64,-125C461.88,-125 472.91,-125 483.92,-125\"/>\n<polygon fill=\"black\" stroke=\"black\" points=\"483.85,-128.5 493.85,-125 483.85,-121.5 483.85,-128.5\"/>\n<text text-anchor=\"middle\" x=\"473.7\" y=\"-128.2\" font-family=\"Times New Roman,serif\" font-size=\"14.00\">+</text>\n</g>\n<!-- Cancer Suspicion -->\n<g id=\"node7\" class=\"node\">\n<title>Cancer Suspicion</title>\n<ellipse fill=\"none\" stroke=\"black\" cx=\"756.57\" cy=\"-163\" rx=\"75.92\" ry=\"18\"/>\n<text text-anchor=\"middle\" x=\"756.57\" y=\"-157.95\" font-family=\"Times New Roman,serif\" font-size=\"14.00\">Cancer Suspicion</text>\n</g>\n<!-- PI&#45;RADS Score&#45;&gt;Cancer Suspicion -->\n<g id=\"edge6\" class=\"edge\">\n<title>PI&#45;RADS Score&#45;&gt;Cancer Suspicion</title>\n<path fill=\"none\" stroke=\"black\" d=\"M622.38,-136.14C642.45,-140.19 665.39,-144.82 686.5,-149.07\"/>\n<polygon fill=\"black\" stroke=\"black\" points=\"685.7,-152.48 696.2,-151.03 687.09,-145.62 685.7,-152.48\"/>\n<text text-anchor=\"middle\" x=\"658.53\" y=\"-147.2\" font-family=\"Times New Roman,serif\" font-size=\"14.00\">+</text>\n</g>\n<!-- MRI Technique -->\n<g id=\"node4\" class=\"node\">\n<title>MRI Technique</title>\n<ellipse fill=\"none\" stroke=\"black\" cx=\"566.11\" cy=\"-63\" rx=\"69.26\" ry=\"18\"/>\n<text text-anchor=\"middle\" x=\"566.11\" y=\"-57.95\" font-family=\"Times New Roman,serif\" font-size=\"14.00\">MRI Technique</text>\n</g>\n<!-- Lesion Detection -->\n<g id=\"node5\" class=\"node\">\n<title>Lesion Detection</title>\n<ellipse fill=\"none\" stroke=\"black\" cx=\"951.12\" cy=\"-71\" rx=\"74.38\" ry=\"18\"/>\n<text text-anchor=\"middle\" x=\"951.12\" y=\"-65.95\" font-family=\"Times New Roman,serif\" font-size=\"14.00\">Lesion Detection</text>\n</g>\n<!-- MRI Technique&#45;&gt;Lesion Detection -->\n<g id=\"edge3\" class=\"edge\">\n<title>MRI Technique&#45;&gt;Lesion Detection</title>\n<path fill=\"none\" stroke=\"black\" d=\"M635.59,-64.43C699.89,-65.77 796.3,-67.79 865.41,-69.23\"/>\n<polygon fill=\"black\" stroke=\"black\" points=\"865.11,-72.72 875.18,-69.43 865.26,-65.73 865.11,-72.72\"/>\n<text text-anchor=\"middle\" x=\"756.57\" y=\"-71.64\" font-family=\"Times New Roman,serif\" font-size=\"14.00\">+</text>\n</g>\n<!-- Loop R2 -->\n<g id=\"node10\" class=\"node\">\n<title>Loop R2</title>\n<text text-anchor=\"middle\" x=\"756.57\" y=\"-12.95\" font-family=\"Times New Roman,serif\" font-size=\"14.00\">Reinforcing Loop R2</text>\n</g>\n<!-- MRI Technique&#45;&gt;Loop R2 -->\n<g id=\"edge10\" class=\"edge\">\n<title>MRI Technique&#45;&gt;Loop R2</title>\n<path fill=\"none\" stroke=\"black\" stroke-dasharray=\"1,5\" d=\"M618.11,-50.82C637.06,-46.3 658.97,-41.07 679.67,-36.12\"/>\n<polygon fill=\"black\" stroke=\"black\" points=\"680.29,-39.57 689.21,-33.85 678.67,-32.76 680.29,-39.57\"/>\n</g>\n<!-- Lesion Characteristics -->\n<g id=\"node6\" class=\"node\">\n<title>Lesion Characteristics</title>\n<ellipse fill=\"none\" stroke=\"black\" cx=\"1163.07\" cy=\"-117\" rx=\"93.32\" ry=\"18\"/>\n<text text-anchor=\"middle\" x=\"1163.07\" y=\"-111.95\" font-family=\"Times New Roman,serif\" font-size=\"14.00\">Lesion Characteristics</text>\n</g>\n<!-- Lesion Detection&#45;&gt;Lesion Characteristics -->\n<g id=\"edge4\" class=\"edge\">\n<title>Lesion Detection&#45;&gt;Lesion Characteristics</title>\n<path fill=\"none\" stroke=\"black\" d=\"M1016.64,-79.92C1028.37,-81.86 1040.46,-84.07 1051.76,-86.5 1067.7,-89.93 1084.75,-94.3 1100.57,-98.65\"/>\n<polygon fill=\"black\" stroke=\"black\" points=\"1099.27,-101.91 1109.84,-101.23 1101.15,-95.17 1099.27,-101.91\"/>\n<text text-anchor=\"middle\" x=\"1047.63\" y=\"-89.7\" font-family=\"Times New Roman,serif\" font-size=\"14.00\">+</text>\n</g>\n<!-- Lesion Characteristics&#45;&gt;PI&#45;RADS Score -->\n<g id=\"edge5\" class=\"edge\">\n<title>Lesion Characteristics&#45;&gt;PI&#45;RADS Score</title>\n<path fill=\"none\" stroke=\"black\" d=\"M1069.49,-118.24C953.81,-119.8 757.72,-122.44 647.86,-123.91\"/>\n<polygon fill=\"black\" stroke=\"black\" points=\"647.99,-120.41 638.04,-124.05 648.09,-127.41 647.99,-120.41\"/>\n<text text-anchor=\"middle\" x=\"854.61\" y=\"-124.38\" font-family=\"Times New Roman,serif\" font-size=\"14.00\">+</text>\n</g>\n<!-- Lesion Location -->\n<g id=\"node8\" class=\"node\">\n<title>Lesion Location</title>\n<ellipse fill=\"none\" stroke=\"black\" cx=\"951.12\" cy=\"-163\" rx=\"71.31\" ry=\"18\"/>\n<text text-anchor=\"middle\" x=\"951.12\" y=\"-157.95\" font-family=\"Times New Roman,serif\" font-size=\"14.00\">Lesion Location</text>\n</g>\n<!-- Cancer Suspicion&#45;&gt;Lesion Location -->\n<g id=\"edge14\" class=\"edge\">\n<title>Cancer Suspicion&#45;&gt;Lesion Location</title>\n<path fill=\"none\" stroke=\"black\" stroke-dasharray=\"1,5\" d=\"M832.84,-163C844.51,-163 856.62,-163 868.42,-163\"/>\n<polygon fill=\"black\" stroke=\"black\" points=\"868.11,-166.5 878.11,-163 868.11,-159.5 868.11,-166.5\"/>\n<text text-anchor=\"middle\" x=\"854.61\" y=\"-166.2\" font-family=\"Times New Roman,serif\" font-size=\"14.00\">&#45;</text>\n</g>\n<!-- Lesion Location&#45;&gt;Lesion Characteristics -->\n<g id=\"edge7\" class=\"edge\">\n<title>Lesion Location&#45;&gt;Lesion Characteristics</title>\n<path fill=\"none\" stroke=\"black\" d=\"M1006.19,-151.15C1031.39,-145.63 1061.76,-138.98 1088.97,-133.02\"/>\n<polygon fill=\"black\" stroke=\"black\" points=\"1089.52,-136.48 1098.54,-130.92 1088.02,-129.64 1089.52,-136.48\"/>\n<text text-anchor=\"middle\" x=\"1047.63\" y=\"-145.95\" font-family=\"Times New Roman,serif\" font-size=\"14.00\">+</text>\n</g>\n<!-- Loop B1 -->\n<g id=\"node11\" class=\"node\">\n<title>Loop B1</title>\n<text text-anchor=\"middle\" x=\"1163.07\" y=\"-190.95\" font-family=\"Times New Roman,serif\" font-size=\"14.00\">Balancing Loop B1</text>\n</g>\n<!-- Lesion Location&#45;&gt;Loop B1 -->\n<g id=\"edge12\" class=\"edge\">\n<title>Lesion Location&#45;&gt;Loop B1</title>\n<path fill=\"none\" stroke=\"black\" stroke-dasharray=\"1,5\" d=\"M1012.57,-172.5C1037.05,-176.35 1065.5,-180.82 1090.97,-184.82\"/>\n<polygon fill=\"black\" stroke=\"black\" points=\"1090.14,-188.24 1100.56,-186.33 1091.23,-181.32 1090.14,-188.24\"/>\n</g>\n<!-- Loop R1&#45;&gt;PSA Level -->\n<g id=\"edge9\" class=\"edge\">\n<title>Loop R1&#45;&gt;PSA Level</title>\n<path fill=\"none\" stroke=\"black\" stroke-dasharray=\"1,5\" d=\"M312.66,-109.53C322.98,-111.36 333.57,-113.24 343.66,-115.04\"/>\n<polygon fill=\"black\" stroke=\"black\" points=\"342.85,-118.45 353.31,-116.75 344.07,-111.56 342.85,-118.45\"/>\n</g>\n<!-- Loop R2&#45;&gt;Lesion Detection -->\n<g id=\"edge11\" class=\"edge\">\n<title>Loop R2&#45;&gt;Lesion Detection</title>\n<path fill=\"none\" stroke=\"black\" stroke-dasharray=\"1,5\" d=\"M822.49,-35.87C844.25,-41.86 868.4,-48.51 889.79,-54.39\"/>\n<polygon fill=\"black\" stroke=\"black\" points=\"888.67,-57.71 899.24,-56.99 890.53,-50.97 888.67,-57.71\"/>\n</g>\n<!-- Loop B1&#45;&gt;Cancer Suspicion -->\n<g id=\"edge13\" class=\"edge\">\n<title>Loop B1&#45;&gt;Cancer Suspicion</title>\n<path fill=\"none\" stroke=\"black\" stroke-dasharray=\"1,5\" d=\"M1101.98,-198.24C1044.06,-199.57 954.08,-199.48 876.74,-190 857.64,-187.66 837.12,-183.59 818.58,-179.31\"/>\n<polygon fill=\"black\" stroke=\"black\" points=\"819.63,-175.96 809.09,-177.05 818.01,-182.77 819.63,-175.96\"/>\n</g>\n</g>\n</svg>\n",
      "text/plain": [
       "<graphviz.sources.Source at 0x274abfc94f0>"
      ]
     },
     "execution_count": 51,
     "metadata": {},
     "output_type": "execute_result"
    }
   ],
   "execution_count": 51
  },
  {
   "metadata": {
    "ExecuteTime": {
     "end_time": "2024-12-30T04:35:54.972355Z",
     "start_time": "2024-12-30T04:35:54.967135Z"
    }
   },
   "cell_type": "code",
   "source": [
    "# Assuming responses[\"Final_Output\"] and openai_output are strings\n",
    "combined_output = f\"\"\"\n",
    "{responses[\"Final_Output\"]}\n",
    "\n",
    "---\n",
    "\n",
    "{openai_output}\n",
    "\"\"\"\n",
    "\n",
    "# Save the combined content to a Markdown file with UTF-8 encoding\n",
    "file_name = \"combined_output.md\"\n",
    "\n",
    "with open(file_name, \"w\", encoding=\"utf-8\") as file:\n",
    "    file.write(combined_output)\n",
    "\n",
    "print(f\"Output successfully saved to {file_name}\")\n",
    "\n"
   ],
   "id": "338d9239aced7730",
   "outputs": [
    {
     "name": "stdout",
     "output_type": "stream",
     "text": [
      "Output successfully saved to combined_output.md\n"
     ]
    }
   ],
   "execution_count": 63
  },
  {
   "metadata": {},
   "cell_type": "markdown",
   "source": "## Testing with Different Examples",
   "id": "387156cacf1530c4"
  },
  {
   "metadata": {},
   "cell_type": "markdown",
   "source": [
    "### Case #1\n",
    "More chickens lay more eggs, which hatch and add to the chicken population. The more chickens, the more road crossing they will attempt. If there is any traffic, more road crossings will lead to fewer chickens. \n",
    "\n",
    "- number of links in the text: 4\n",
    "- number of loops in the text: 2"
   ],
   "id": "3b9ce3e40365f2ea"
  },
  {
   "metadata": {
    "ExecuteTime": {
     "end_time": "2024-12-30T07:08:51.329321Z",
     "start_time": "2024-12-30T07:08:51.326206Z"
    }
   },
   "cell_type": "code",
   "source": [
    "case01 = r\"\"\"\n",
    "More chickens lay more eggs, which hatch and add to the chicken population. The more chickens, the more road crossing they will attempt. If there is any traffic, more road crossings will lead to fewer chickens. \n",
    "\"\"\""
   ],
   "id": "5ecaa612e5782aab",
   "outputs": [],
   "execution_count": 17
  },
  {
   "metadata": {
    "ExecuteTime": {
     "end_time": "2024-12-30T07:09:23.198797Z",
     "start_time": "2024-12-30T07:08:53.611473Z"
    }
   },
   "cell_type": "code",
   "source": [
    "case01_responses = process_case_study(case01, system_messages)\n",
    "case01_openai_output = call_openai_for_cld(case01_responses[\"Final_Output\"])\n",
    "\n",
    "case01_graphviz_script = extract_graphviz_script(case01_openai_output)"
   ],
   "id": "b3252f5393041efe",
   "outputs": [],
   "execution_count": 18
  },
  {
   "metadata": {
    "ExecuteTime": {
     "end_time": "2024-12-30T07:09:26.357014Z",
     "start_time": "2024-12-30T07:09:25.311444Z"
    }
   },
   "cell_type": "code",
   "source": [
    "case01_rendered_diagram = render_graphviz(case01_graphviz_script, output_file = \"case01_causal_loop_diagram\")\n",
    "case01_rendered_diagram.view()"
   ],
   "id": "11b959308f5e392a",
   "outputs": [
    {
     "data": {
      "text/plain": [
       "'case01_causal_loop_diagram.pdf'"
      ]
     },
     "execution_count": 19,
     "metadata": {},
     "output_type": "execute_result"
    }
   ],
   "execution_count": 19
  },
  {
   "metadata": {
    "ExecuteTime": {
     "end_time": "2024-12-30T07:09:54.706187Z",
     "start_time": "2024-12-30T07:09:54.701303Z"
    }
   },
   "cell_type": "code",
   "source": [
    "case01_output = f\"\"\"\n",
    "{case01_responses[\"Final_Output\"]}\n",
    "\n",
    "---\n",
    "\n",
    "{case01_openai_output}\n",
    "\"\"\"\n",
    "\n",
    "# Save the combined content to a Markdown file with UTF-8 encoding\n",
    "file_name = \"case01_combined_output.md\"\n",
    "\n",
    "with open(file_name, \"w\", encoding=\"utf-8\") as file:\n",
    "    file.write(case01_output)\n",
    "\n",
    "print(f\"Output successfully saved to {file_name}\")\n"
   ],
   "id": "ea8131a702b66beb",
   "outputs": [
    {
     "name": "stdout",
     "output_type": "stream",
     "text": [
      "Output successfully saved to case01_combined_output.md\n"
     ]
    }
   ],
   "execution_count": 20
  },
  {
   "metadata": {},
   "cell_type": "markdown",
   "source": [
    "### Case #2\n",
    "a change in price changes demand and supply with some delay, and demand and supply in turn influence price.\n",
    "\n",
    "- number of links in the text: 5\n",
    "- number of loops in the text: 2"
   ],
   "id": "6bccce682ef76488"
  },
  {
   "metadata": {
    "ExecuteTime": {
     "end_time": "2024-12-30T07:14:00.578739Z",
     "start_time": "2024-12-30T07:14:00.576111Z"
    }
   },
   "cell_type": "code",
   "source": [
    "case02 = r\"\"\"\n",
    "a change in price changes demand and supply with some delay, and demand and supply in turn influence price.\n",
    "\"\"\""
   ],
   "id": "88695266c3868311",
   "outputs": [],
   "execution_count": 21
  },
  {
   "metadata": {
    "ExecuteTime": {
     "end_time": "2024-12-30T07:15:09.451467Z",
     "start_time": "2024-12-30T07:14:42.812222Z"
    }
   },
   "cell_type": "code",
   "source": [
    "case02_responses = process_case_study(case02, system_messages)\n",
    "case02_openai_output = call_openai_for_cld(case02_responses[\"Final_Output\"])\n",
    "\n",
    "case02_graphviz_script = extract_graphviz_script(case02_openai_output)"
   ],
   "id": "f2a207182358c8aa",
   "outputs": [],
   "execution_count": 22
  },
  {
   "metadata": {
    "ExecuteTime": {
     "end_time": "2024-12-30T07:15:12.996864Z",
     "start_time": "2024-12-30T07:15:12.016238Z"
    }
   },
   "cell_type": "code",
   "source": [
    "case02_rendered_diagram = render_graphviz(case02_graphviz_script, output_file = \"case02_causal_loop_diagram\")\n",
    "case02_rendered_diagram.view()"
   ],
   "id": "12ed0a01f9c7b11a",
   "outputs": [
    {
     "data": {
      "text/plain": [
       "'case02_causal_loop_diagram.pdf'"
      ]
     },
     "execution_count": 23,
     "metadata": {},
     "output_type": "execute_result"
    }
   ],
   "execution_count": 23
  },
  {
   "metadata": {
    "ExecuteTime": {
     "end_time": "2024-12-30T07:41:55.837386Z",
     "start_time": "2024-12-30T07:41:55.833152Z"
    }
   },
   "cell_type": "code",
   "source": [
    "case02_output = f\"\"\"\n",
    "{case02_responses[\"Final_Output\"]}\n",
    "\n",
    "---\n",
    "\n",
    "{case02_openai_output}\n",
    "\"\"\"\n",
    "\n",
    "# Save the combined content to a Markdown file with UTF-8 encoding\n",
    "file_name = \"case02_combined_output.md\"\n",
    "\n",
    "with open(file_name, \"w\", encoding=\"utf-8\") as file:\n",
    "    file.write(case02_output)\n",
    "\n",
    "print(f\"Output successfully saved to {file_name}\")\n"
   ],
   "id": "e8a60b78a3b9cfd",
   "outputs": [
    {
     "name": "stdout",
     "output_type": "stream",
     "text": [
      "Output successfully saved to case02_combined_output.md\n"
     ]
    }
   ],
   "execution_count": 55
  },
  {
   "metadata": {},
   "cell_type": "markdown",
   "source": [
    "### Case #3\n",
    "\n",
    "\"The United States responds to a perceived Threat to Americans by increasing U.S. military activities, which increases the Perceived Aggressiveness of the U.S., which leads to more Terrorist Recruits, which eventually leads to more Terrorist Activities and increases the Threat to the United States, which leads to more U.S. military activities, which increases the Terrorist Recruits.\"\n",
    "\n",
    "- number of links in the text: 6\n",
    "- number of loops in the text: 1"
   ],
   "id": "bcdb0578ecec6a36"
  },
  {
   "metadata": {
    "ExecuteTime": {
     "end_time": "2024-12-30T04:44:19.779533Z",
     "start_time": "2024-12-30T04:43:54.791805Z"
    }
   },
   "cell_type": "code",
   "source": [
    "case03 = r'''\n",
    "The United States responds to a perceived Threat to Americans by increasing U.S. military activities, which increases the Perceived Aggressiveness of the U.S., which leads to more Terrorist Recruits, which eventually leads to more Terrorist Activities and increases the Threat to the United States, which leads to more U.S. military activities, which increases the Terrorist Recruits.\n",
    "'''\n",
    "\n",
    "case03_responses = process_case_study(case03, system_messages)\n",
    "case03_openai_output = call_openai_for_cld(case03_responses[\"Final_Output\"])\n",
    "\n",
    "case03_graphviz_script = extract_graphviz_script(case03_openai_output)"
   ],
   "id": "ec820688ba0a368",
   "outputs": [],
   "execution_count": 64
  },
  {
   "metadata": {
    "ExecuteTime": {
     "end_time": "2024-12-30T04:46:01.159365Z",
     "start_time": "2024-12-30T04:46:00.408709Z"
    }
   },
   "cell_type": "code",
   "source": [
    "case03_rendered_diagram = render_graphviz(case03_graphviz_script, output_file = \"case03_causal_loop_diagram\")\n",
    "case03_rendered_diagram.view()"
   ],
   "id": "1e3ad56944ba65e5",
   "outputs": [
    {
     "data": {
      "text/plain": [
       "'case03_causal_loop_diagram.pdf'"
      ]
     },
     "execution_count": 66,
     "metadata": {},
     "output_type": "execute_result"
    }
   ],
   "execution_count": 66
  },
  {
   "metadata": {
    "ExecuteTime": {
     "end_time": "2024-12-30T04:47:48.114487Z",
     "start_time": "2024-12-30T04:47:48.109749Z"
    }
   },
   "cell_type": "code",
   "source": [
    "case03_output = f\"\"\"\n",
    "{case03_responses[\"Final_Output\"]}\n",
    "\n",
    "---\n",
    "\n",
    "{case03_openai_output}\n",
    "\"\"\"\n",
    "\n",
    "# Save the combined content to a Markdown file with UTF-8 encoding\n",
    "file_name = \"case03_combined_output.md\"\n",
    "\n",
    "with open(file_name, \"w\", encoding=\"utf-8\") as file:\n",
    "    file.write(case03_output)\n",
    "\n",
    "print(f\"Output successfully saved to {file_name}\")\n"
   ],
   "id": "5475f28217821bc9",
   "outputs": [
    {
     "name": "stdout",
     "output_type": "stream",
     "text": [
      "Output successfully saved to case03_combined_output.md\n"
     ]
    }
   ],
   "execution_count": 68
  },
  {
   "metadata": {},
   "cell_type": "markdown",
   "source": [
    "### Case #4\n",
    "\n",
    "\"Busy managers are often tempted to bring in human resource specialists to sort out personnel problems. The HR expert may solve the problem, but the manager's ability to solve other related problems has not improved. Eventually, other personnel issues will arise and the manager will be just as dependent on the HR expert as before. The very fact that the outside expert was used successfully before makes it even easier to turn to expert again.\"\n",
    "\n",
    "- number of links in the text: 6\n",
    "- number of loops in the text: 3"
   ],
   "id": "8e7c2844fc0238c8"
  },
  {
   "metadata": {
    "ExecuteTime": {
     "end_time": "2024-12-30T07:21:02.624683Z",
     "start_time": "2024-12-30T07:21:02.620962Z"
    }
   },
   "cell_type": "code",
   "source": [
    "case04 = r\"\"\"\n",
    "Busy managers are often tempted to bring in human resource specialists to sort out personnel problems. The HR expert may solve the problem, but the manager's ability to solve other related problems has not improved. Eventually, other personnel issues will arise and the manager will be just as dependent on the HR expert as before. The very fact that the outside expert was used successfully before makes it even easier to turn to expert again.\n",
    "\"\"\""
   ],
   "id": "e39e2027086fdb28",
   "outputs": [],
   "execution_count": 26
  },
  {
   "metadata": {
    "ExecuteTime": {
     "end_time": "2024-12-30T07:22:17.628620Z",
     "start_time": "2024-12-30T07:21:19.095383Z"
    }
   },
   "cell_type": "code",
   "source": [
    "case04_responses = process_case_study(case04, system_messages)\n",
    "case04_openai_output = call_openai_for_cld(case04_responses[\"Final_Output\"])\n",
    "\n",
    "case04_graphviz_script = extract_graphviz_script(case04_openai_output)"
   ],
   "id": "2e1d5e8f006096e",
   "outputs": [],
   "execution_count": 27
  },
  {
   "metadata": {
    "ExecuteTime": {
     "end_time": "2024-12-30T07:22:20.161146Z",
     "start_time": "2024-12-30T07:22:19.310793Z"
    }
   },
   "cell_type": "code",
   "source": [
    "case04_rendered_diagram = render_graphviz(case04_graphviz_script, output_file = \"case04_causal_loop_diagram\")\n",
    "case04_rendered_diagram.view()"
   ],
   "id": "bf2a9db4470ea8f3",
   "outputs": [
    {
     "data": {
      "text/plain": [
       "'case04_causal_loop_diagram.pdf'"
      ]
     },
     "execution_count": 28,
     "metadata": {},
     "output_type": "execute_result"
    }
   ],
   "execution_count": 28
  },
  {
   "metadata": {
    "ExecuteTime": {
     "end_time": "2024-12-30T07:41:51.273433Z",
     "start_time": "2024-12-30T07:41:51.268610Z"
    }
   },
   "cell_type": "code",
   "source": [
    "case04_output = f\"\"\"\n",
    "{case04_responses[\"Final_Output\"]}\n",
    "\n",
    "---\n",
    "\n",
    "{case04_openai_output}\n",
    "\"\"\"\n",
    "\n",
    "# Save the combined content to a Markdown file with UTF-8 encoding\n",
    "file_name = \"case04_combined_output.md\"\n",
    "\n",
    "with open(file_name, \"w\", encoding=\"utf-8\") as file:\n",
    "    file.write(case04_output)\n",
    "\n",
    "print(f\"Output successfully saved to {file_name}\")\n"
   ],
   "id": "f3a63b97afa64529",
   "outputs": [
    {
     "name": "stdout",
     "output_type": "stream",
     "text": [
      "Output successfully saved to case04_combined_output.md\n"
     ]
    }
   ],
   "execution_count": 54
  },
  {
   "metadata": {},
   "cell_type": "markdown",
   "source": [
    "### Case #5\n",
    "\n",
    "\"Alcohol drinking lifts some tension, at least for a while. It relieves the problem symptom. If it didn’t, people wouldn’t drink. But it also gives the person the feeling of having solved the problem, thereby diverting attention from the fundamental problem—controlling the workload. Failing to take a stand may well cause the workload to gradually increase further, since most of us are continually besieged by more demand on our time than we can possibly respond to. Over time, the workload continues to build, the stress returns, and the pressure to drink increases.\"\n",
    "\n",
    "- number of links in the text: 6\n",
    "- number of loops in the text: 3"
   ],
   "id": "54f105a96027386d"
  },
  {
   "metadata": {
    "ExecuteTime": {
     "end_time": "2024-12-30T07:23:58.640051Z",
     "start_time": "2024-12-30T07:23:58.636757Z"
    }
   },
   "cell_type": "code",
   "source": [
    "case05 = r\"\"\"\n",
    "Alcohol drinking lifts some tension, at least for a while. It relieves the problem symptom. If it didn’t, people wouldn’t drink. But it also gives the person the feeling of having solved the problem, thereby diverting attention from the fundamental problem—controlling the workload. Failing to take a stand may well cause the workload to gradually increase further, since most of us are continually besieged by more demand on our time than we can possibly respond to. Over time, the workload continues to build, the stress returns, and the pressure to drink increases.\n",
    "\"\"\""
   ],
   "id": "607d4ecc9a9babd",
   "outputs": [],
   "execution_count": 29
  },
  {
   "metadata": {
    "ExecuteTime": {
     "end_time": "2024-12-30T07:25:46.793247Z",
     "start_time": "2024-12-30T07:24:01.332626Z"
    }
   },
   "cell_type": "code",
   "source": [
    "case05_responses = process_case_study(case05, system_messages)\n",
    "case05_openai_output = call_openai_for_cld(case05_responses[\"Final_Output\"])\n",
    "\n",
    "case05_graphviz_script = extract_graphviz_script(case05_openai_output)"
   ],
   "id": "ee0592932d16c635",
   "outputs": [],
   "execution_count": 30
  },
  {
   "metadata": {
    "ExecuteTime": {
     "end_time": "2024-12-30T07:25:55.187708Z",
     "start_time": "2024-12-30T07:25:54.441855Z"
    }
   },
   "cell_type": "code",
   "source": [
    "case05_rendered_diagram = render_graphviz(case05_graphviz_script, output_file = \"case05_causal_loop_diagram\")\n",
    "case05_rendered_diagram.view()"
   ],
   "id": "ea41f2d4dc583182",
   "outputs": [
    {
     "data": {
      "text/plain": [
       "'case05_causal_loop_diagram.pdf'"
      ]
     },
     "execution_count": 31,
     "metadata": {},
     "output_type": "execute_result"
    }
   ],
   "execution_count": 31
  },
  {
   "metadata": {
    "ExecuteTime": {
     "end_time": "2024-12-30T07:41:48.454157Z",
     "start_time": "2024-12-30T07:41:48.449371Z"
    }
   },
   "cell_type": "code",
   "source": [
    "case05_output = f\"\"\"\n",
    "{case05_responses[\"Final_Output\"]}\n",
    "\n",
    "---\n",
    "\n",
    "{case05_openai_output}\n",
    "\"\"\"\n",
    "\n",
    "# Save the combined content to a Markdown file with UTF-8 encoding\n",
    "file_name = \"case05_combined_output.md\"\n",
    "\n",
    "with open(file_name, \"w\", encoding=\"utf-8\") as file:\n",
    "    file.write(case05_output)\n",
    "\n",
    "print(f\"Output successfully saved to {file_name}\")\n"
   ],
   "id": "3672efa238bca7ea",
   "outputs": [
    {
     "name": "stdout",
     "output_type": "stream",
     "text": [
      "Output successfully saved to case05_combined_output.md\n"
     ]
    }
   ],
   "execution_count": 53
  },
  {
   "metadata": {},
   "cell_type": "markdown",
   "source": [
    "### Case #6\n",
    "\n",
    "\"The productivity  of  investment in exploration is negatively influenced by the discovery rate. Suppose the discovery rate is increased. Then less remains to be discovered with current technology, and the productivity of further investment in exploration  is reduced. It  is assumed that the yield  from exploration is exponentially  decreasing with cumulative footage drilled, and that the footage drilled per dollar  invested is constant . The reduction in  productivity  feeds back to the discovery rate, implying a  reduction in the discovery potential  provided by any given level of exploration activity.\"\n",
    "\n",
    "- number of links in the text: 8\n",
    "- number of loops in the text: 1"
   ],
   "id": "6b9ddcd34d865dcb"
  },
  {
   "metadata": {
    "ExecuteTime": {
     "end_time": "2024-12-30T07:27:27.630706Z",
     "start_time": "2024-12-30T07:27:27.626882Z"
    }
   },
   "cell_type": "code",
   "source": [
    "case06 = r\"\"\"\n",
    "The productivity  of  investment in exploration is negatively influenced by the discovery rate. Suppose the discovery rate is increased. Then less remains to be discovered with current technology, and the productivity of further investment in exploration  is reduced. It  is assumed that the yield  from exploration is exponentially  decreasing with cumulative footage drilled, and that the footage drilled per dollar  invested is constant . The reduction in  productivity  feeds back to the discovery rate, implying a  reduction in the discovery potential  provided by any given level of exploration activity. \n",
    "\"\"\""
   ],
   "id": "572c514051522957",
   "outputs": [],
   "execution_count": 32
  },
  {
   "metadata": {
    "ExecuteTime": {
     "end_time": "2024-12-30T07:28:43.423549Z",
     "start_time": "2024-12-30T07:28:07.293952Z"
    }
   },
   "cell_type": "code",
   "source": [
    "case06_responses = process_case_study(case06, system_messages)\n",
    "case06_openai_output = call_openai_for_cld(case06_responses[\"Final_Output\"])\n",
    "\n",
    "case06_graphviz_script = extract_graphviz_script(case06_openai_output)"
   ],
   "id": "4d87af3e415fe300",
   "outputs": [],
   "execution_count": 33
  },
  {
   "metadata": {
    "ExecuteTime": {
     "end_time": "2024-12-30T07:28:47.264566Z",
     "start_time": "2024-12-30T07:28:46.420289Z"
    }
   },
   "cell_type": "code",
   "source": [
    "case06_rendered_diagram = render_graphviz(case06_graphviz_script, output_file = \"case06_causal_loop_diagram\")\n",
    "case06_rendered_diagram.view()"
   ],
   "id": "4e830118008cd4d1",
   "outputs": [
    {
     "data": {
      "text/plain": [
       "'case06_causal_loop_diagram.pdf'"
      ]
     },
     "execution_count": 34,
     "metadata": {},
     "output_type": "execute_result"
    }
   ],
   "execution_count": 34
  },
  {
   "metadata": {
    "ExecuteTime": {
     "end_time": "2024-12-30T07:41:45.655639Z",
     "start_time": "2024-12-30T07:41:45.651057Z"
    }
   },
   "cell_type": "code",
   "source": [
    "case06_output = f\"\"\"\n",
    "{case06_responses[\"Final_Output\"]}\n",
    "\n",
    "---\n",
    "\n",
    "{case06_openai_output}\n",
    "\"\"\"\n",
    "\n",
    "# Save the combined content to a Markdown file with UTF-8 encoding\n",
    "file_name = \"case06_combined_output.md\"\n",
    "\n",
    "with open(file_name, \"w\", encoding=\"utf-8\") as file:\n",
    "    file.write(case06_output)\n",
    "\n",
    "print(f\"Output successfully saved to {file_name}\")\n"
   ],
   "id": "84fb39fb9bcaba95",
   "outputs": [
    {
     "name": "stdout",
     "output_type": "stream",
     "text": [
      "Output successfully saved to case06_combined_output.md\n"
     ]
    }
   ],
   "execution_count": 52
  },
  {
   "metadata": {},
   "cell_type": "markdown",
   "source": [
    "### Case #7\n",
    "\n",
    "\"we consider the impact of implemented components on the carry-out and store operations. Some components may lead to new costs, e.g., for acquiring healthier ingredients and finding new suppliers. Benefits may also ensue, including financial benefits due to increased sales or incentives for participation in the study, reputational benefits, and the personal satisfaction of making a contribution to community health. An increase in motivation due to observation of such benefits can lead to further implementation of components, and thus even more benefits… On the other hand, if the storeowner perceives the costs (both financial and time costs) to exceed those benefits, then a balancing loop may dominate which reduces motivation in response to progress, and slows down further implementation.\n",
    "\"\n",
    "\n",
    "- number of links in the text: 8\n",
    "- number of loops in the text: 2"
   ],
   "id": "f32b9d3791307613"
  },
  {
   "metadata": {
    "ExecuteTime": {
     "end_time": "2024-12-30T04:52:11.046692Z",
     "start_time": "2024-12-30T04:52:11.043407Z"
    }
   },
   "cell_type": "code",
   "source": [
    "case07 = r\"\"\"\n",
    "we consider the impact of implemented components on the carry-out and store operations. Some components may lead to new costs, e.g., for acquiring healthier ingredients and finding new suppliers. Benefits may also ensue, including financial benefits due to increased sales or incentives for participation in the study, reputational benefits, and the personal satisfaction of making a contribution to community health. An increase in motivation due to observation of such benefits can lead to further implementation of components, and thus even more benefits… On the other hand, if the storeowner perceives the costs (both financial and time costs) to exceed those benefits, then a balancing loop may dominate which reduces motivation in response to progress, and slows down further implementation.\n",
    "\"\"\""
   ],
   "id": "9889478137171bef",
   "outputs": [],
   "execution_count": 70
  },
  {
   "metadata": {
    "ExecuteTime": {
     "end_time": "2024-12-30T04:52:41.742741Z",
     "start_time": "2024-12-30T04:52:11.599485Z"
    }
   },
   "cell_type": "code",
   "source": [
    "case07_responses = process_case_study(case07, system_messages)\n",
    "case07_openai_output = call_openai_for_cld(case07_responses[\"Final_Output\"])\n",
    "\n",
    "case07_graphviz_script = extract_graphviz_script(case07_openai_output)"
   ],
   "id": "ac5d125245889b52",
   "outputs": [],
   "execution_count": 71
  },
  {
   "metadata": {
    "ExecuteTime": {
     "end_time": "2024-12-30T04:52:45.196489Z",
     "start_time": "2024-12-30T04:52:44.313148Z"
    }
   },
   "cell_type": "code",
   "source": [
    "case07_rendered_diagram = render_graphviz(case07_graphviz_script, output_file = \"case07_causal_loop_diagram\")\n",
    "case07_rendered_diagram.view()"
   ],
   "id": "1b52b100b4e56ea7",
   "outputs": [
    {
     "data": {
      "text/plain": [
       "'case07_causal_loop_diagram.pdf'"
      ]
     },
     "execution_count": 72,
     "metadata": {},
     "output_type": "execute_result"
    }
   ],
   "execution_count": 72
  },
  {
   "metadata": {
    "ExecuteTime": {
     "end_time": "2024-12-30T04:53:02.562204Z",
     "start_time": "2024-12-30T04:53:02.557987Z"
    }
   },
   "cell_type": "code",
   "source": [
    "case07_output = f\"\"\"\n",
    "{case07_responses[\"Final_Output\"]}\n",
    "\n",
    "---\n",
    "\n",
    "{case07_openai_output}\n",
    "\"\"\"\n",
    "\n",
    "# Save the combined content to a Markdown file with UTF-8 encoding\n",
    "file_name = \"case07_combined_output.md\"\n",
    "\n",
    "with open(file_name, \"w\", encoding=\"utf-8\") as file:\n",
    "    file.write(case07_output)\n",
    "\n",
    "print(f\"Output successfully saved to {file_name}\")\n"
   ],
   "id": "aa6040e71f873122",
   "outputs": [
    {
     "name": "stdout",
     "output_type": "stream",
     "text": [
      "Output successfully saved to case07_combined_output.md\n"
     ]
    }
   ],
   "execution_count": 73
  },
  {
   "metadata": {},
   "cell_type": "markdown",
   "source": [
    "### Case #8\n",
    "\n",
    "\"A high‑tech organization grows rapidly because of its ability to introduce new products. As new products grow, revenues grow, the R&D budget grows, and the engineering and research staff grows. Eventually, this burgeoning technical staff becomes increasingly complex and difficult to manage. The management burden often falls on senior engineers, who in turn have less time to spend on engineering. Diverging the most experienced engineers from engineering to management results in longer product development times, which slow down the introduction of new products.\"\n",
    "\n",
    "- number of links in the text: 9\n",
    "- number of loops in the text: 2"
   ],
   "id": "8684a9e12f9398ad"
  },
  {
   "metadata": {
    "ExecuteTime": {
     "end_time": "2024-12-30T07:31:46.215867Z",
     "start_time": "2024-12-30T07:31:46.211983Z"
    }
   },
   "cell_type": "code",
   "source": [
    "case08= r\"\"\"\n",
    "A high‑tech organization grows rapidly because of its ability to introduce new products. As new products grow, revenues grow, the R&D budget grows, and the engineering and research staff grows. Eventually, this burgeoning technical staff becomes increasingly complex and difficult to manage. The management burden often falls on senior engineers, who in turn have less time to spend on engineering. Diverging the most experienced engineers from engineering to management results in longer product development times, which slow down the introduction of new products.\n",
    "\"\"\""
   ],
   "id": "10277b4fa185a9ca",
   "outputs": [],
   "execution_count": 35
  },
  {
   "metadata": {
    "ExecuteTime": {
     "end_time": "2024-12-30T07:32:19.450951Z",
     "start_time": "2024-12-30T07:31:48.467064Z"
    }
   },
   "cell_type": "code",
   "source": [
    "case08_responses = process_case_study(case08, system_messages)\n",
    "case08_openai_output = call_openai_for_cld(case08_responses[\"Final_Output\"])\n",
    "\n",
    "case08_graphviz_script = extract_graphviz_script(case08_openai_output)"
   ],
   "id": "bb8bbe85a068350f",
   "outputs": [],
   "execution_count": 36
  },
  {
   "metadata": {
    "ExecuteTime": {
     "end_time": "2024-12-30T07:32:22.771301Z",
     "start_time": "2024-12-30T07:32:21.802305Z"
    }
   },
   "cell_type": "code",
   "source": [
    "case08_rendered_diagram = render_graphviz(case08_graphviz_script, output_file = \"case08_causal_loop_diagram\")\n",
    "case08_rendered_diagram.view()"
   ],
   "id": "dee83086dd4552d7",
   "outputs": [
    {
     "data": {
      "text/plain": [
       "'case08_causal_loop_diagram.pdf'"
      ]
     },
     "execution_count": 37,
     "metadata": {},
     "output_type": "execute_result"
    }
   ],
   "execution_count": 37
  },
  {
   "metadata": {
    "ExecuteTime": {
     "end_time": "2024-12-30T07:41:40.504007Z",
     "start_time": "2024-12-30T07:41:40.499842Z"
    }
   },
   "cell_type": "code",
   "source": [
    "case08_output = f\"\"\"\n",
    "{case08_responses[\"Final_Output\"]}\n",
    "\n",
    "---\n",
    "\n",
    "{case08_openai_output}\n",
    "\"\"\"\n",
    "\n",
    "# Save the combined content to a Markdown file with UTF-8 encoding\n",
    "file_name = \"case08_combined_output.md\"\n",
    "\n",
    "with open(file_name, \"w\", encoding=\"utf-8\") as file:\n",
    "    file.write(case08_output)\n",
    "\n",
    "print(f\"Output successfully saved to {file_name}\")\n"
   ],
   "id": "569c293f471fb091",
   "outputs": [
    {
     "name": "stdout",
     "output_type": "stream",
     "text": [
      "Output successfully saved to case08_combined_output.md\n"
     ]
    }
   ],
   "execution_count": 51
  },
  {
   "metadata": {},
   "cell_type": "markdown",
   "source": [
    "### Case #9\n",
    "\n",
    "\"Fulfilling the past commitments [is shown]. Increased annual budget leads to more new grants, more new grants result in more future commitments, and that in turn decreases funds for future new grants.\"\n",
    "\n",
    "- number of links in the text: 9\n",
    "- number of loops in the text: 2"
   ],
   "id": "98df050c6e20184f"
  },
  {
   "metadata": {
    "ExecuteTime": {
     "end_time": "2024-12-30T07:34:28.031652Z",
     "start_time": "2024-12-30T07:34:28.027886Z"
    }
   },
   "cell_type": "code",
   "source": [
    "case09 = r\"\"\"\n",
    "Fulfilling the past commitments [is shown]. Increased annual budget leads to more new grants, more new grants result in more future commitments, and that in turn decreases funds for future new grants.\n",
    "\"\"\""
   ],
   "id": "ffb87f1f24f6cf0",
   "outputs": [],
   "execution_count": 39
  },
  {
   "metadata": {
    "ExecuteTime": {
     "end_time": "2024-12-30T07:34:54.918445Z",
     "start_time": "2024-12-30T07:34:28.953095Z"
    }
   },
   "cell_type": "code",
   "source": [
    "case09_responses = process_case_study(case09, system_messages)\n",
    "case09_openai_output = call_openai_for_cld(case09_responses[\"Final_Output\"])\n",
    "\n",
    "case09_graphviz_script = extract_graphviz_script(case09_openai_output)"
   ],
   "id": "cfbd187543089d20",
   "outputs": [],
   "execution_count": 40
  },
  {
   "metadata": {
    "ExecuteTime": {
     "end_time": "2024-12-30T07:34:58.194339Z",
     "start_time": "2024-12-30T07:34:57.433770Z"
    }
   },
   "cell_type": "code",
   "source": [
    "case09_rendered_diagram = render_graphviz(case09_graphviz_script, output_file = \"case09_causal_loop_diagram\")\n",
    "case09_rendered_diagram.view()"
   ],
   "id": "b1e86a2176b28411",
   "outputs": [
    {
     "data": {
      "text/plain": [
       "'case09_causal_loop_diagram.pdf'"
      ]
     },
     "execution_count": 41,
     "metadata": {},
     "output_type": "execute_result"
    }
   ],
   "execution_count": 41
  },
  {
   "metadata": {
    "ExecuteTime": {
     "end_time": "2024-12-30T07:35:38.154951Z",
     "start_time": "2024-12-30T07:35:38.148950Z"
    }
   },
   "cell_type": "code",
   "source": [
    "case09_output = f\"\"\"\n",
    "{case09_responses[\"Final_Output\"]}\n",
    "\n",
    "---\n",
    "\n",
    "{case09_openai_output}\n",
    "\"\"\"\n",
    "\n",
    "# Save the combined content to a Markdown file with UTF-8 encoding\n",
    "file_name = \"case09_combined_output.md\"\n",
    "\n",
    "with open(file_name, \"w\", encoding=\"utf-8\") as file:\n",
    "    file.write(case09_output)\n",
    "\n",
    "print(f\"Output successfully saved to {file_name}\")\n"
   ],
   "id": "43b3b7b04f9c6496",
   "outputs": [
    {
     "name": "stdout",
     "output_type": "stream",
     "text": [
      "Output successfully saved to case09_combined_output.md\n"
     ]
    }
   ],
   "execution_count": 42
  },
  {
   "metadata": {},
   "cell_type": "markdown",
   "source": [
    "### Case #10\n",
    "\n",
    "\"In the redundancy solution, when people perceive a gap between the desired level of security and the current level, they go on hiring and deploying more guards, which causes the guard force power to increase. By increasing the guard force power, without considering any other effect, the security rises and adjusts to the desired level. Thus, this dynamic solution suggests that we should continue deploying guards until we feel that security is at its desired level.\n",
    "\"\n",
    "\n",
    "- number of links in the text: 9\n",
    "- number of loops in the text: 1"
   ],
   "id": "faa0e57f3bd0eaba"
  },
  {
   "metadata": {
    "ExecuteTime": {
     "end_time": "2024-12-30T07:36:58.893630Z",
     "start_time": "2024-12-30T07:36:58.890402Z"
    }
   },
   "cell_type": "code",
   "source": [
    "case10 = r\"\"\"\n",
    "In the redundancy solution, when people perceive a gap between the desired level of security and the current level, they go on hiring and deploying more guards, which causes the guard force power to increase. By increasing the guard force power, without considering any other effect, the security rises and adjusts to the desired level. Thus, this dynamic solution suggests that we should continue deploying guards until we feel that security is at its desired level.\n",
    "\"\"\""
   ],
   "id": "2c4be4d1879ac058",
   "outputs": [],
   "execution_count": 43
  },
  {
   "metadata": {
    "ExecuteTime": {
     "end_time": "2024-12-30T07:37:41.420506Z",
     "start_time": "2024-12-30T07:37:17.560719Z"
    }
   },
   "cell_type": "code",
   "source": [
    "case10_responses = process_case_study(case10, system_messages)\n",
    "case10_openai_output = call_openai_for_cld(case10_responses[\"Final_Output\"])\n",
    "\n",
    "case10_graphviz_script = extract_graphviz_script(case10_openai_output)"
   ],
   "id": "799e9c3c4b97ee0d",
   "outputs": [],
   "execution_count": 44
  },
  {
   "metadata": {
    "ExecuteTime": {
     "end_time": "2024-12-30T07:37:54.985313Z",
     "start_time": "2024-12-30T07:37:54.159738Z"
    }
   },
   "cell_type": "code",
   "source": [
    "case10_rendered_diagram = render_graphviz(case10_graphviz_script, output_file = \"case10_causal_loop_diagram\")\n",
    "case10_rendered_diagram.view()"
   ],
   "id": "8b74027f2e4d4c64",
   "outputs": [
    {
     "data": {
      "text/plain": [
       "'case10_causal_loop_diagram.pdf'"
      ]
     },
     "execution_count": 45,
     "metadata": {},
     "output_type": "execute_result"
    }
   ],
   "execution_count": 45
  },
  {
   "metadata": {
    "ExecuteTime": {
     "end_time": "2024-12-30T07:41:36.227841Z",
     "start_time": "2024-12-30T07:41:36.222768Z"
    }
   },
   "cell_type": "code",
   "source": [
    "case10_output = f\"\"\"\n",
    "{case10_responses[\"Final_Output\"]}\n",
    "\n",
    "---\n",
    "\n",
    "{case10_openai_output}\n",
    "\"\"\"\n",
    "\n",
    "# Save the combined content to a Markdown file with UTF-8 encoding\n",
    "file_name = \"case10_combined_output.md\"\n",
    "\n",
    "with open(file_name, \"w\", encoding=\"utf-8\") as file:\n",
    "    file.write(case10_output)\n",
    "\n",
    "print(f\"Output successfully saved to {file_name}\")\n"
   ],
   "id": "1fbfd5073924616a",
   "outputs": [
    {
     "name": "stdout",
     "output_type": "stream",
     "text": [
      "Output successfully saved to case10_combined_output.md\n"
     ]
    }
   ],
   "execution_count": 50
  },
  {
   "metadata": {},
   "cell_type": "markdown",
   "source": [
    "### Case #11\n",
    "\n",
    "\"In most firms the advertising budget grows roughly as the company and revenue grow. Larger advertising budgets have two effects: (1) more potential customers are made aware of the product and choose to enter the market; (2) to the extent the advertising is effective, more of those who are aware and in market are likely to buy the product offered by the company. Similarly, the larger the revenue of the firm, the greater the sales budget. The more sales representatives, and the greater their skill and experience, the more calls they can make, the more time they can spend with customers, and the more effective their calls will be, increasing both total industry demand and the share of the total demand won by the firm.\n",
    "\"\n",
    "\n",
    "- number of links in the text: 11\n",
    "- number of loops in the text: 4"
   ],
   "id": "cb5456c640d676c0"
  },
  {
   "metadata": {
    "ExecuteTime": {
     "end_time": "2024-12-30T07:39:43.734111Z",
     "start_time": "2024-12-30T07:39:43.729977Z"
    }
   },
   "cell_type": "code",
   "source": [
    "case11 = r\"\"\"\n",
    "In most firms the advertising budget grows roughly as the company and revenue grow. Larger advertising budgets have two effects: (1) more potential customers are made aware of the product and choose to enter the market; (2) to the extent the advertising is effective, more of those who are aware and in market are likely to buy the product offered by the company. Similarly, the larger the revenue of the firm, the greater the sales budget. The more sales representatives, and the greater their skill and experience, the more calls they can make, the more time they can spend with customers, and the more effective their calls will be, increasing both total industry demand and the share of the total demand won by the firm.\n",
    "\"\"\""
   ],
   "id": "f9dd4c5207b7b8a1",
   "outputs": [],
   "execution_count": 46
  },
  {
   "metadata": {
    "ExecuteTime": {
     "end_time": "2024-12-30T07:40:22.588110Z",
     "start_time": "2024-12-30T07:39:44.364383Z"
    }
   },
   "cell_type": "code",
   "source": [
    "case11_responses = process_case_study(case11, system_messages)\n",
    "case11_openai_output = call_openai_for_cld(case11_responses[\"Final_Output\"])\n",
    "\n",
    "case11_graphviz_script = extract_graphviz_script(case11_openai_output)"
   ],
   "id": "e912c694904d0e4",
   "outputs": [],
   "execution_count": 47
  },
  {
   "metadata": {
    "ExecuteTime": {
     "end_time": "2024-12-30T07:40:44.918620Z",
     "start_time": "2024-12-30T07:40:44.189971Z"
    }
   },
   "cell_type": "code",
   "source": [
    "case11_rendered_diagram = render_graphviz(case11_graphviz_script, output_file = \"case11_causal_loop_diagram\")\n",
    "case11_rendered_diagram.view()"
   ],
   "id": "417e81148a917b2a",
   "outputs": [
    {
     "data": {
      "text/plain": [
       "'case11_causal_loop_diagram.pdf'"
      ]
     },
     "execution_count": 48,
     "metadata": {},
     "output_type": "execute_result"
    }
   ],
   "execution_count": 48
  },
  {
   "metadata": {
    "ExecuteTime": {
     "end_time": "2024-12-30T07:41:33.039497Z",
     "start_time": "2024-12-30T07:41:33.035030Z"
    }
   },
   "cell_type": "code",
   "source": [
    "case11_output = f\"\"\"\n",
    "{case11_responses[\"Final_Output\"]}\n",
    "\n",
    "---\n",
    "\n",
    "{case11_openai_output}\n",
    "\"\"\"\n",
    "\n",
    "# Save the combined content to a Markdown file with UTF-8 encoding\n",
    "file_name = \"case11_combined_output.md\"\n",
    "\n",
    "with open(file_name, \"w\", encoding=\"utf-8\") as file:\n",
    "    file.write(case11_output)\n",
    "\n",
    "print(f\"Output successfully saved to {file_name}\")\n"
   ],
   "id": "5d6de5615d8f00f6",
   "outputs": [
    {
     "name": "stdout",
     "output_type": "stream",
     "text": [
      "Output successfully saved to case11_combined_output.md\n"
     ]
    }
   ],
   "execution_count": 49
  },
  {
   "metadata": {},
   "cell_type": "markdown",
   "source": [
    "### Case #12\n",
    "\n",
    "\"The car dealer needs to keep some inventory because deliveries and purchases don’t match perfectly every day. Customers make purchases that are unpredictable on a day-to-day basis. The car dealer also needs to provide herself with some extra inventory (a buffer) in case deliveries from suppliers are delayed occasionally. The dealer monitors sales (perceived sales), and if, for example, they seem to be rising, she adjusts orders to the factory to bring inventory up to her new desired inventory that provides ten days’ coverage at the higher sales rate. So, higher sales mean higher perceived sales, which means a higher discrepancy between inventory and desired inventory, which means higher orders, which will bring in more deliveries, which will raise inventory so it can comfortably supply the higher rate of sales.\n",
    "\n",
    "\"\n",
    "\n",
    "- number of links in the text: 11\n",
    "- number of loops in the text: 4"
   ],
   "id": "21bfbf55f2c4a13c"
  },
  {
   "metadata": {
    "ExecuteTime": {
     "end_time": "2024-12-30T07:42:30.413163Z",
     "start_time": "2024-12-30T07:42:30.409416Z"
    }
   },
   "cell_type": "code",
   "source": [
    "case12 = r\"\"\"\n",
    "The car dealer needs to keep some inventory because deliveries and purchases don’t match perfectly every day. Customers make purchases that are unpredictable on a day-to-day basis. The car dealer also needs to provide herself with some extra inventory (a buffer) in case deliveries from suppliers are delayed occasionally. The dealer monitors sales (perceived sales), and if, for example, they seem to be rising, she adjusts orders to the factory to bring inventory up to her new desired inventory that provides ten days’ coverage at the higher sales rate. So, higher sales mean higher perceived sales, which means a higher discrepancy between inventory and desired inventory, which means higher orders, which will bring in more deliveries, which will raise inventory so it can comfortably supply the higher rate of sales.\n",
    "\"\"\""
   ],
   "id": "22d9227a75a7a7f6",
   "outputs": [],
   "execution_count": 56
  },
  {
   "metadata": {
    "ExecuteTime": {
     "end_time": "2024-12-30T07:43:09.937603Z",
     "start_time": "2024-12-30T07:42:30.932053Z"
    }
   },
   "cell_type": "code",
   "source": [
    "case12_responses = process_case_study(case12, system_messages)\n",
    "case12_openai_output = call_openai_for_cld(case12_responses[\"Final_Output\"])\n",
    "\n",
    "case12_graphviz_script = extract_graphviz_script(case12_openai_output)"
   ],
   "id": "3416c61912b7af12",
   "outputs": [],
   "execution_count": 57
  },
  {
   "metadata": {
    "ExecuteTime": {
     "end_time": "2024-12-30T07:43:45.235993Z",
     "start_time": "2024-12-30T07:43:44.386655Z"
    }
   },
   "cell_type": "code",
   "source": [
    "case12_rendered_diagram = render_graphviz(case12_graphviz_script, output_file = \"case12_causal_loop_diagram\")\n",
    "case12_rendered_diagram.view()"
   ],
   "id": "23e2f3068c713ee8",
   "outputs": [
    {
     "data": {
      "text/plain": [
       "'case12_causal_loop_diagram.pdf'"
      ]
     },
     "execution_count": 58,
     "metadata": {},
     "output_type": "execute_result"
    }
   ],
   "execution_count": 58
  },
  {
   "metadata": {
    "ExecuteTime": {
     "end_time": "2024-12-30T07:44:38.682438Z",
     "start_time": "2024-12-30T07:44:38.678209Z"
    }
   },
   "cell_type": "code",
   "source": [
    "case12_output = f\"\"\"\n",
    "{case12_responses[\"Final_Output\"]}\n",
    "\n",
    "---\n",
    "\n",
    "{case12_openai_output}\n",
    "\"\"\"\n",
    "\n",
    "# Save the combined content to a Markdown file with UTF-8 encoding\n",
    "file_name = \"case12_combined_output.md\"\n",
    "\n",
    "with open(file_name, \"w\", encoding=\"utf-8\") as file:\n",
    "    file.write(case12_output)\n",
    "\n",
    "print(f\"Output successfully saved to {file_name}\")\n"
   ],
   "id": "df642ad356ae1b5c",
   "outputs": [
    {
     "name": "stdout",
     "output_type": "stream",
     "text": [
      "Output successfully saved to case12_combined_output.md\n"
     ]
    }
   ],
   "execution_count": 59
  },
  {
   "metadata": {},
   "cell_type": "markdown",
   "source": [
    "### Case #13\n",
    "\n",
    "\"Here is a situation in which salesmen book orders followed by product delivery which generates revenue which produces the sales budget which permits hiring still more salesmen. In short, salesmen produce revenue to pay for the further expansion of the sales effort. Orders booked increase the order backlog which increases the delivery delay which makes the product less attractive and reduces the order rate.  The ordering of new production capacity is a function of delivery delay only. Rising order backlog, as indicated by delivery delay, is taken as an indication of inadequate capacity, and orders for more capacity are placed. These orders, after an acquisition delay, add to the production capacity.  As the delivery delay rises, production capacity is raised to bring down the delivery delay.\"\n",
    "\n",
    "- number of links in the text: 12\n",
    "- number of loops in the text: 3"
   ],
   "id": "2db48239015b921b"
  },
  {
   "metadata": {
    "ExecuteTime": {
     "end_time": "2024-12-30T07:45:05.290581Z",
     "start_time": "2024-12-30T07:45:05.287581Z"
    }
   },
   "cell_type": "code",
   "source": [
    "case13 = r\"\"\"\n",
    "Here is a situation in which salesmen book orders followed by product delivery which generates revenue which produces the sales budget which permits hiring still more salesmen. In short, salesmen produce revenue to pay for the further expansion of the sales effort. Orders booked increase the order backlog which increases the delivery delay which makes the product less attractive and reduces the order rate.  The ordering of new production capacity is a function of delivery delay only. Rising order backlog, as indicated by delivery delay, is taken as an indication of inadequate capacity, and orders for more capacity are placed. These orders, after an acquisition delay, add to the production capacity.  As the delivery delay rises, production capacity is raised to bring down the delivery delay.\n",
    "\"\"\""
   ],
   "id": "937f368bf240bcd9",
   "outputs": [],
   "execution_count": 60
  },
  {
   "metadata": {
    "ExecuteTime": {
     "end_time": "2024-12-30T07:45:51.160862Z",
     "start_time": "2024-12-30T07:45:05.457075Z"
    }
   },
   "cell_type": "code",
   "source": [
    "case13_responses = process_case_study(case13, system_messages)\n",
    "case13_openai_output = call_openai_for_cld(case13_responses[\"Final_Output\"])\n",
    "\n",
    "case13_graphviz_script = extract_graphviz_script(case13_openai_output)"
   ],
   "id": "2b1b7f814405c442",
   "outputs": [],
   "execution_count": 61
  },
  {
   "metadata": {
    "ExecuteTime": {
     "end_time": "2024-12-30T07:46:00.800073Z",
     "start_time": "2024-12-30T07:45:59.980302Z"
    }
   },
   "cell_type": "code",
   "source": [
    "case13_rendered_diagram = render_graphviz(case13_graphviz_script, output_file = \"case13_causal_loop_diagram\")\n",
    "case13_rendered_diagram.view()"
   ],
   "id": "5078cebcef44d6ef",
   "outputs": [
    {
     "data": {
      "text/plain": [
       "'case13_causal_loop_diagram.pdf'"
      ]
     },
     "execution_count": 62,
     "metadata": {},
     "output_type": "execute_result"
    }
   ],
   "execution_count": 62
  },
  {
   "metadata": {
    "ExecuteTime": {
     "end_time": "2024-12-30T07:46:59.261676Z",
     "start_time": "2024-12-30T07:46:59.256658Z"
    }
   },
   "cell_type": "code",
   "source": [
    "case13_output = f\"\"\"\n",
    "{case13_responses[\"Final_Output\"]}\n",
    "\n",
    "---\n",
    "\n",
    "{case13_openai_output}\n",
    "\"\"\"\n",
    "\n",
    "# Save the combined content to a Markdown file with UTF-8 encoding\n",
    "file_name = \"case13_combined_output.md\"\n",
    "\n",
    "with open(file_name, \"w\", encoding=\"utf-8\") as file:\n",
    "    file.write(case13_output)\n",
    "\n",
    "print(f\"Output successfully saved to {file_name}\")\n"
   ],
   "id": "8df5b76b61d6098f",
   "outputs": [
    {
     "name": "stdout",
     "output_type": "stream",
     "text": [
      "Output successfully saved to case13_combined_output.md\n"
     ]
    }
   ],
   "execution_count": 63
  },
  {
   "metadata": {},
   "cell_type": "markdown",
   "source": [
    "### Case #14\n",
    "\n",
    "\"The rate of defect introduction is determined by the stock of process problem.... The stock of process problems is increased by problem introduction and reduced by problem correction... Because the stock of process problems determines the flow of defects, one process problem creates a continual inflow of defects, forever reducing net process throughput unless each and every defect is corrected....  The throughput gap [is] defined as the difference between desired net throughput and net process throughput... Large gaps indicate a strong need for corrective action... Workers and managers have several options they can use to regulate production... Net process throughput can be increased through greater worker effort, which directly boosts gross throughput and, given the defect rate (process yield), net throuhput... Managers can also alocate more resources to correct defects.... Instead of raising gross throughput by working harder, managers can allocate resources to improve the process, eventually increasing the rate at which process problems are discovered and corrected. As the stock of process problems falls, the rate of defect introduction drops, boosting net throughput and reducing the throughput gap. \"\n",
    "\n",
    "- number of links in the text: 17\n",
    "- number of loops in the text: 3"
   ],
   "id": "3e4e4301d048f932"
  },
  {
   "metadata": {
    "ExecuteTime": {
     "end_time": "2024-12-30T07:47:32.230520Z",
     "start_time": "2024-12-30T07:47:32.226683Z"
    }
   },
   "cell_type": "code",
   "source": [
    "case14 = r\"\"\"\n",
    "The rate of defect introduction is determined by the stock of process problem.... The stock of process problems is increased by problem introduction and reduced by problem correction... Because the stock of process problems determines the flow of defects, one process problem creates a continual inflow of defects, forever reducing net process throughput unless each and every defect is corrected....  The throughput gap [is] defined as the difference between desired net throughput and net process throughput... Large gaps indicate a strong need for corrective action... Workers and managers have several options they can use to regulate production... Net process throughput can be increased through greater worker effort, which directly boosts gross throughput and, given the defect rate (process yield), net throuhput... Managers can also alocate more resources to correct defects.... Instead of raising gross throughput by working harder, managers can allocate resources to improve the process, eventually increasing the rate at which process problems are discovered and corrected. As the stock of process problems falls, the rate of defect introduction drops, boosting net throughput and reducing the throughput gap. \n",
    "\"\"\""
   ],
   "id": "3349d052591b1c8",
   "outputs": [],
   "execution_count": 64
  },
  {
   "metadata": {
    "ExecuteTime": {
     "end_time": "2024-12-30T07:48:31.191594Z",
     "start_time": "2024-12-30T07:47:32.452380Z"
    }
   },
   "cell_type": "code",
   "source": [
    "case14_responses = process_case_study(case14, system_messages)\n",
    "case14_openai_output = call_openai_for_cld(case14_responses[\"Final_Output\"])\n",
    "\n",
    "case14_graphviz_script = extract_graphviz_script(case14_openai_output)"
   ],
   "id": "ca48951d2d29398c",
   "outputs": [],
   "execution_count": 65
  },
  {
   "metadata": {
    "ExecuteTime": {
     "end_time": "2024-12-30T07:48:36.516122Z",
     "start_time": "2024-12-30T07:48:35.650158Z"
    }
   },
   "cell_type": "code",
   "source": [
    "case14_rendered_diagram = render_graphviz(case14_graphviz_script, output_file = \"case14_causal_loop_diagram\")\n",
    "case14_rendered_diagram.view()"
   ],
   "id": "8bfd38e86ba7c967",
   "outputs": [
    {
     "data": {
      "text/plain": [
       "'case14_causal_loop_diagram.pdf'"
      ]
     },
     "execution_count": 66,
     "metadata": {},
     "output_type": "execute_result"
    }
   ],
   "execution_count": 66
  },
  {
   "metadata": {
    "ExecuteTime": {
     "end_time": "2024-12-30T07:49:17.541266Z",
     "start_time": "2024-12-30T07:49:17.536268Z"
    }
   },
   "cell_type": "code",
   "source": [
    "case14_output = f\"\"\"\n",
    "{case14_responses[\"Final_Output\"]}\n",
    "\n",
    "---\n",
    "\n",
    "{case14_openai_output}\n",
    "\"\"\"\n",
    "\n",
    "# Save the combined content to a Markdown file with UTF-8 encoding\n",
    "file_name = \"case14_combined_output.md\"\n",
    "\n",
    "with open(file_name, \"w\", encoding=\"utf-8\") as file:\n",
    "    file.write(case14_output)\n",
    "\n",
    "print(f\"Output successfully saved to {file_name}\")\n"
   ],
   "id": "14c51e270de762af",
   "outputs": [
    {
     "name": "stdout",
     "output_type": "stream",
     "text": [
      "Output successfully saved to case14_combined_output.md\n"
     ]
    }
   ],
   "execution_count": 67
  },
  {
   "metadata": {},
   "cell_type": "markdown",
   "source": [
    "### Case #15\n",
    "\n",
    "\"Both doctors and technologists can learn more by doing more; they can accumulate more operating knowledge by making and executing decisions about conducting scans... We represented learning as an increase (inflow) to the knowledge accumulation, which integrates all learning that has occurred, and we chose not to represent forgetting or obsolescence of operating knowledge. [S]canning can be conducted either by  doctors or by technologists with doctor supervision... [T]he portion of operational decisions made by each actor depended on doctors' perceptions of their own and technologists' relative accumulation of  skill in operating the new CT machine. \"\n",
    "\n",
    "- number of links in the text: 17\n",
    "- number of loops in the text: 6"
   ],
   "id": "f1eebf549ddfef48"
  },
  {
   "metadata": {
    "ExecuteTime": {
     "end_time": "2024-12-30T07:49:45.770815Z",
     "start_time": "2024-12-30T07:49:45.767541Z"
    }
   },
   "cell_type": "code",
   "source": [
    "case15 = r\"\"\"\n",
    "Both doctors and technologists can learn more by doing more; they can accumulate more operating knowledge by making and executing decisions about conducting scans... We represented learning as an increase (inflow) to the knowledge accumulation, which integrates all learning that has occurred, and we chose not to represent forgetting or obsolescence of operating knowledge. [S]canning can be conducted either by  doctors or by technologists with doctor supervision... [T]he portion of operational decisions made by each actor depended on doctors' perceptions of their own and technologists' relative accumulation of  skill in operating the new CT machine. \n",
    "\"\"\""
   ],
   "id": "88082853feb0621",
   "outputs": [],
   "execution_count": 68
  },
  {
   "metadata": {
    "ExecuteTime": {
     "end_time": "2024-12-30T07:50:34.308210Z",
     "start_time": "2024-12-30T07:49:46.035338Z"
    }
   },
   "cell_type": "code",
   "source": [
    "case15_responses = process_case_study(case15, system_messages)\n",
    "case15_openai_output = call_openai_for_cld(case15_responses[\"Final_Output\"])\n",
    "\n",
    "case15_graphviz_script = extract_graphviz_script(case15_openai_output)"
   ],
   "id": "6a8f784134886c47",
   "outputs": [],
   "execution_count": 69
  },
  {
   "metadata": {
    "ExecuteTime": {
     "end_time": "2024-12-30T07:50:53.577241Z",
     "start_time": "2024-12-30T07:50:52.723388Z"
    }
   },
   "cell_type": "code",
   "source": [
    "case15_rendered_diagram = render_graphviz(case15_graphviz_script, output_file = \"case15_causal_loop_diagram\")\n",
    "case15_rendered_diagram.view()"
   ],
   "id": "6d2a4aec4c670969",
   "outputs": [
    {
     "data": {
      "text/plain": [
       "'case15_causal_loop_diagram.pdf'"
      ]
     },
     "execution_count": 70,
     "metadata": {},
     "output_type": "execute_result"
    }
   ],
   "execution_count": 70
  },
  {
   "metadata": {
    "ExecuteTime": {
     "end_time": "2024-12-30T08:04:49.900694Z",
     "start_time": "2024-12-30T08:04:49.895692Z"
    }
   },
   "cell_type": "code",
   "source": [
    "case15_output = f\"\"\"\n",
    "{case15_responses[\"Final_Output\"]}\n",
    "\n",
    "---\n",
    "\n",
    "{case15_openai_output}\n",
    "\"\"\"\n",
    "\n",
    "# Save the combined content to a Markdown file with UTF-8 encoding\n",
    "file_name = \"case15_combined_output.md\"\n",
    "\n",
    "with open(file_name, \"w\", encoding=\"utf-8\") as file:\n",
    "    file.write(case15_output)\n",
    "\n",
    "print(f\"Output successfully saved to {file_name}\")\n"
   ],
   "id": "f66700c63228b17d",
   "outputs": [
    {
     "name": "stdout",
     "output_type": "stream",
     "text": [
      "Output successfully saved to case15_combined_output.md\n"
     ]
    }
   ],
   "execution_count": 87
  },
  {
   "metadata": {},
   "cell_type": "markdown",
   "source": [
    "### Case #16\n",
    "\n",
    "\"early adversity such as abuse or neglect of a child is processed and stored in the form of negative cognitive representations within an individual’s memory. Negative cognitive representations influence the way in which one attunes to stress stimuli, leading an individual to orient and maintain his/her focus on negative information. Negatively biased attention and processing increases one’s perceived level of stress which leads to negative affect such as sadness and biased interpretations of negative stimuli that often align with one’s negative mental models. The processing of negative thoughts and affect is encoded and stored in one’s memory, further strengthening existing negative cognitive representations. negative affect and interpretations intensify one’s propensity for ruminative thought which further compounds perceptions of stress and increases negative affect.  negative affect and interpretations contribute to dysfunctional behaviors and strengthen negative cognitive models. An example of this is the self perceptions of worthlessness and feelings of guilt one might experience after having shoved his/her partner during a heated argument. The dysfunctional behavior in this example intensifies the perception of oneself as worthless. Increased negative affect inhibits the efficiency of one’s working memory, leading to less optimal cognitive performance. Cognitive performance is weakened by impaired memory and sleep problems and further contributes to dysfunctional behaviors. Dysfunctional behaviors reinforce negative cognitive representations and lead to biased attentional processes, increased perceptions of stress, negative affect and interpretations, and further inhibit the efficiency of  working memory.\n",
    "\"\n",
    "\n",
    "- number of links in the text: 18\n",
    "- number of loops in the text: 4"
   ],
   "id": "c35628672ff64fba"
  },
  {
   "metadata": {
    "ExecuteTime": {
     "end_time": "2024-12-30T07:33:22.642239Z",
     "start_time": "2024-12-30T07:33:22.638086Z"
    }
   },
   "cell_type": "code",
   "source": [
    "case16 = r\"\"\"\n",
    "early adversity such as abuse or neglect of a child is processed and stored in the form of negative cognitive representations within an individual’s memory. Negative cognitive representations influence the way in which one attunes to stress stimuli, leading an individual to orient and maintain his/her focus on negative information. Negatively biased attention and processing increases one’s perceived level of stress which leads to negative affect such as sadness and biased interpretations of negative stimuli that often align with one’s negative mental models. The processing of negative thoughts and affect is encoded and stored in one’s memory, further strengthening existing negative cognitive representations. negative affect and interpretations intensify one’s propensity for ruminative thought which further compounds perceptions of stress and increases negative affect.  negative affect and interpretations contribute to dysfunctional behaviors and strengthen negative cognitive models. An example of this is the self perceptions of worthlessness and feelings of guilt one might experience after having shoved his/her partner during a heated argument. The dysfunctional behavior in this example intensifies the perception of oneself as worthless. Increased negative affect inhibits the efficiency of one’s working memory, leading to less optimal cognitive performance. Cognitive performance is weakened by impaired memory and sleep problems and further contributes to dysfunctional behaviors. Dysfunctional behaviors reinforce negative cognitive representations and lead to biased attentional processes, increased perceptions of stress, negative affect and interpretations, and further inhibit the efficiency of  working memory.\n",
    "\"\"\""
   ],
   "id": "ccc7809f8bc51d95",
   "outputs": [],
   "execution_count": 38
  },
  {
   "metadata": {
    "ExecuteTime": {
     "end_time": "2024-12-30T06:58:25.510006Z",
     "start_time": "2024-12-30T06:57:28.793937Z"
    }
   },
   "cell_type": "code",
   "source": [
    "case16_responses = process_case_study(case16, system_messages)\n",
    "case16_openai_output = call_openai_for_cld(case16_responses[\"Final_Output\"])\n",
    "\n",
    "case16_graphviz_script = extract_graphviz_script(case16_openai_output)"
   ],
   "id": "7d49e8d9c20bc450",
   "outputs": [],
   "execution_count": 11
  },
  {
   "metadata": {
    "ExecuteTime": {
     "end_time": "2024-12-30T06:59:39.293956Z",
     "start_time": "2024-12-30T06:59:38.313791Z"
    }
   },
   "cell_type": "code",
   "source": [
    "case16_rendered_diagram = render_graphviz(case16_graphviz_script, output_file = \"case16_causal_loop_diagram\")\n",
    "case16_rendered_diagram.view()"
   ],
   "id": "d9319b8e2b0e2a65",
   "outputs": [
    {
     "data": {
      "text/plain": [
       "'case16_causal_loop_diagram.pdf'"
      ]
     },
     "execution_count": 15,
     "metadata": {},
     "output_type": "execute_result"
    }
   ],
   "execution_count": 15
  },
  {
   "metadata": {
    "ExecuteTime": {
     "end_time": "2024-12-30T06:59:57.382998Z",
     "start_time": "2024-12-30T06:59:57.376811Z"
    }
   },
   "cell_type": "code",
   "source": [
    "case16_output = f\"\"\"\n",
    "{case16_responses[\"Final_Output\"]}\n",
    "\n",
    "---\n",
    "\n",
    "{case16_openai_output}\n",
    "\"\"\"\n",
    "\n",
    "# Save the combined content to a Markdown file with UTF-8 encoding\n",
    "file_name = \"case16_combined_output.md\"\n",
    "\n",
    "with open(file_name, \"w\", encoding=\"utf-8\") as file:\n",
    "    file.write(case16_output)\n",
    "\n",
    "print(f\"Output successfully saved to {file_name}\")\n"
   ],
   "id": "8fe5e9e856c74230",
   "outputs": [
    {
     "name": "stdout",
     "output_type": "stream",
     "text": [
      "Output successfully saved to case16_combined_output.md\n"
     ]
    }
   ],
   "execution_count": 16
  },
  {
   "metadata": {},
   "cell_type": "markdown",
   "source": [
    "### Case #17\n",
    "\n",
    "\"Defects are created by operations (normal wear and tear) and by collateral damage arising from breakdowns (when the oil leaks out of the pump bearing and the bearing seizes, the shaft may be bent, the motor may overheat, and the vibration may break couplings and pipes, introducing new problems).  The stock of defects is drained by two flows: reactive maintenance (repair of failed equipment) and planned maintenance (proactive repair of operable equipment). As equipment defects accumulate, the chance of a breakdown increases. Breakdowns lead to more reactive maintenance, and after repair, the equipment is returned to service and the stock of equipment defects is reduced. Similarly, scheduled maintenance or equipment monitoring may reveal the presence of latent defects. The equipment is then taken out of service and the defects are corrected before a breakdown occurs. Obviously, breakdowns reduce plant uptime. In addition, most planned maintenance activity also reduce uptime since planned maintenance frequently requires operable equipment be taken out of service so the needed work can be done. Breakdowns cause collateral damage, directly increasing the stock of defects further and leading to still more breakdowns in a vicious cycle. Because the total number of mechanics is limited, more breakdowns necessarily pull mechanics off planned work as management reassigns mechanics to repair work. With less planned work, breakdowns increase still more.  When plan uptime is low, operators are less willing to take working equipment down for planned maintenance.\"\n",
    "\n",
    "- number of links in the text: 21\n",
    "- number of loops in the text: 6"
   ],
   "id": "add238c0ffe6180d"
  },
  {
   "metadata": {
    "ExecuteTime": {
     "end_time": "2024-12-30T07:53:23.988892Z",
     "start_time": "2024-12-30T07:53:23.985543Z"
    }
   },
   "cell_type": "code",
   "source": [
    "case17 = r\"\"\"\n",
    "Defects are created by operations (normal wear and tear) and by collateral damage arising from breakdowns (when the oil leaks out of the pump bearing and the bearing seizes, the shaft may be bent, the motor may overheat, and the vibration may break couplings and pipes, introducing new problems).  The stock of defects is drained by two flows: reactive maintenance (repair of failed equipment) and planned maintenance (proactive repair of operable equipment). As equipment defects accumulate, the chance of a breakdown increases. Breakdowns lead to more reactive maintenance, and after repair, the equipment is returned to service and the stock of equipment defects is reduced. Similarly, scheduled maintenance or equipment monitoring may reveal the presence of latent defects. The equipment is then taken out of service and the defects are corrected before a breakdown occurs. Obviously, breakdowns reduce plant uptime. In addition, most planned maintenance activity also reduce uptime since planned maintenance frequently requires operable equipment be taken out of service so the needed work can be done. Breakdowns cause collateral damage, directly increasing the stock of defects further and leading to still more breakdowns in a vicious cycle. Because the total number of mechanics is limited, more breakdowns necessarily pull mechanics off planned work as management reassigns mechanics to repair work. With less planned work, breakdowns increase still more.  When plan uptime is low, operators are less willing to take working equipment down for planned maintenance. \n",
    "\"\"\""
   ],
   "id": "628f08e032db9e2c",
   "outputs": [],
   "execution_count": 71
  },
  {
   "metadata": {
    "ExecuteTime": {
     "end_time": "2024-12-30T07:54:39.590719Z",
     "start_time": "2024-12-30T07:53:24.657845Z"
    }
   },
   "cell_type": "code",
   "source": [
    "case17_responses = process_case_study(case17, system_messages)\n",
    "case17_openai_output = call_openai_for_cld(case17_responses[\"Final_Output\"])\n",
    "\n",
    "case17_graphviz_script = extract_graphviz_script(case17_openai_output)"
   ],
   "id": "ab2d1a709cb1a191",
   "outputs": [],
   "execution_count": 72
  },
  {
   "metadata": {
    "ExecuteTime": {
     "end_time": "2024-12-30T07:55:34.978517Z",
     "start_time": "2024-12-30T07:55:34.085175Z"
    }
   },
   "cell_type": "code",
   "source": [
    "case17_rendered_diagram = render_graphviz(case17_graphviz_script, output_file = \"case17_causal_loop_diagram\")\n",
    "case17_rendered_diagram.view()"
   ],
   "id": "a477f9773a68e453",
   "outputs": [
    {
     "data": {
      "text/plain": [
       "'case17_causal_loop_diagram.pdf'"
      ]
     },
     "execution_count": 73,
     "metadata": {},
     "output_type": "execute_result"
    }
   ],
   "execution_count": 73
  },
  {
   "metadata": {
    "ExecuteTime": {
     "end_time": "2024-12-30T07:57:02.397267Z",
     "start_time": "2024-12-30T07:57:02.392401Z"
    }
   },
   "cell_type": "code",
   "source": [
    "case17_output = f\"\"\"\n",
    "{case17_responses[\"Final_Output\"]}\n",
    "\n",
    "---\n",
    "\n",
    "{case17_openai_output}\n",
    "\"\"\"\n",
    "\n",
    "# Save the combined content to a Markdown file with UTF-8 encoding\n",
    "file_name = \"case17_combined_output.md\"\n",
    "\n",
    "with open(file_name, \"w\", encoding=\"utf-8\") as file:\n",
    "    file.write(case17_output)\n",
    "\n",
    "print(f\"Output successfully saved to {file_name}\")\n"
   ],
   "id": "7704c66e7d121d0c",
   "outputs": [
    {
     "name": "stdout",
     "output_type": "stream",
     "text": [
      "Output successfully saved to case17_combined_output.md\n"
     ]
    }
   ],
   "execution_count": 74
  },
  {
   "metadata": {},
   "cell_type": "markdown",
   "source": [
    "### Case #18\n",
    "\n",
    "\"both the firm and the competitor continuously improve the quality of their products in order to keep ahead of one another.  An increase in the Firm’s Quality (FQ) leads to an upwards shift in the competitor’s appreciation of FQ, which in turn leads to a desire for the competitor to generate an improvement in its own quality. After an appropriate time lag, representing the internal workings of the company, this desire to improve quality generates an actual improvement in the Competitor’s Quality (CQ). However, as this improvement in CQ is being realised, a similar chain of events is taking place within the firm, which in turn causes an upward movement in FQ. In both cases the desired improvements in quality are considered to be a function of the difference between the firm’s own quality and its appreciation of its competitor’s quality. However, the lag in generating an actual improvement in quality is considered to be a function of the current level of quality. This implies that it becomes increasingly difficult to improve quality as the overall level of quality becomes higher.\"\n",
    "\n",
    "- number of links in the text: 22\n",
    "- number of loops in the text: 3"
   ],
   "id": "27854b6694205ab0"
  },
  {
   "metadata": {
    "ExecuteTime": {
     "end_time": "2024-12-30T08:00:02.626506Z",
     "start_time": "2024-12-30T08:00:02.622700Z"
    }
   },
   "cell_type": "code",
   "source": [
    "case18 = r\"\"\"\n",
    "both the firm and the competitor continuously improve the quality of their products in order to keep ahead of one another.  An increase in the Firm’s Quality (FQ) leads to an upwards shift in the competitor’s appreciation of FQ, which in turn leads to a desire for the competitor to generate an improvement in its own quality. After an appropriate time lag, representing the internal workings of the company, this desire to improve quality generates an actual improvement in the Competitor’s Quality (CQ). However, as this improvement in CQ is being realised, a similar chain of events is taking place within the firm, which in turn causes an upward movement in FQ. In both cases the desired improvements in quality are considered to be a function of the difference between the firm’s own quality and its appreciation of its competitor’s quality. However, the lag in generating an actual improvement in quality is considered to be a function of the current level of quality. This implies that it becomes increasingly difficult to improve quality as the overall level of quality becomes higher.\n",
    "\"\"\""
   ],
   "id": "feba8244adc05e07",
   "outputs": [],
   "execution_count": 79
  },
  {
   "metadata": {
    "ExecuteTime": {
     "end_time": "2024-12-30T08:01:05.711787Z",
     "start_time": "2024-12-30T08:00:05.108801Z"
    }
   },
   "cell_type": "code",
   "source": [
    "case18_responses = process_case_study(case18, system_messages)\n",
    "case18_openai_output = call_openai_for_cld(case18_responses[\"Final_Output\"])\n",
    "\n",
    "case18_graphviz_script = extract_graphviz_script(case18_openai_output)"
   ],
   "id": "2e1dabac2f643a38",
   "outputs": [],
   "execution_count": 80
  },
  {
   "metadata": {
    "ExecuteTime": {
     "end_time": "2024-12-30T08:01:36.009036Z",
     "start_time": "2024-12-30T08:01:35.159484Z"
    }
   },
   "cell_type": "code",
   "source": [
    "case18_rendered_diagram = render_graphviz(case18_graphviz_script, output_file = \"case18_causal_loop_diagram\")\n",
    "case18_rendered_diagram.view()"
   ],
   "id": "7c1ed96b9b36bde3",
   "outputs": [
    {
     "data": {
      "text/plain": [
       "'case18_causal_loop_diagram.pdf'"
      ]
     },
     "execution_count": 81,
     "metadata": {},
     "output_type": "execute_result"
    }
   ],
   "execution_count": 81
  },
  {
   "metadata": {
    "ExecuteTime": {
     "end_time": "2024-12-30T08:02:18.585292Z",
     "start_time": "2024-12-30T08:02:18.579295Z"
    }
   },
   "cell_type": "code",
   "source": [
    "case18_output = f\"\"\"\n",
    "{case18_responses[\"Final_Output\"]}\n",
    "\n",
    "---\n",
    "\n",
    "{case18_openai_output}\n",
    "\"\"\"\n",
    "\n",
    "# Save the combined content to a Markdown file with UTF-8 encoding\n",
    "file_name = \"case18_combined_output.md\"\n",
    "\n",
    "with open(file_name, \"w\", encoding=\"utf-8\") as file:\n",
    "    file.write(case18_output)\n",
    "\n",
    "print(f\"Output successfully saved to {file_name}\")\n"
   ],
   "id": "e8d2bb84448159e6",
   "outputs": [
    {
     "name": "stdout",
     "output_type": "stream",
     "text": [
      "Output successfully saved to case18_combined_output.md\n"
     ]
    }
   ],
   "execution_count": 82
  },
  {
   "metadata": {},
   "cell_type": "markdown",
   "source": [
    "### Case #19\n",
    "\n",
    "\"Individual adjusters in a claims organization constantly adjust the pace of work to control the backlog of pending claims. A high pending pool means more dissatisfied customers as claimants find themselves waiting longer. Claims processing centers carefully monitor the pending pool, regularly reporting various measures of work flow. An increase in incoming claims causes the pending pool to rise, intensifying the time pressure on each adjuster. Time pressure measures the adequacy of the adjuster staff and skills available to handle the current case load. There are only three ways in which high time pressure can be relieved: devote less time to each claim; increase work intensity; add adjuster capacity. Each option forms a balancing feedback process which seeks to restore time pressure to normal. However, the three channels for controlling the work flow involve very different time delays, costs, and side effects. Adding adjuster capacity means hiring additional adjusters, improving training, and reducing turnover, increasing time available and settlements, reducing the pending pool, and relieving time pressure. But building adjuster capacity takes time. New adjusters must be found, hired, and trained. Adjusting is a highly skilled profession, and the ability to handle complex claims effectively requires years of experience. Building capacity is also expensive and requires top-management authorization. Adding adjuster capacity was therefore the last resort in the organization. Increasing work intensity means longer work weeks, fewer breaks, and less time spent in 'nonproductive' activities such as talking with colleagues or training new hires, increasing the time spent settling claims and draining the pending pool. Overtime is frequently used to control the pending pool. However, sustained high work intensity produces stress, low morale, and burnout, lowering productivity and increasing turnover. By far the easiest and quickest way to control time pressure is to settle each claim faster. Individual adjusters have a high degree of control over the time they spend on a claim. They decide how aggressively to pursue investigation, whether to visit the claimant or handle the claim by 'telephone adjusting', how long to negotiate with the claimant, how much time to spend keeping records. When time pressure rises adjusters cut back on all of these activities, quickly cutting the pending pool and easing time pressure. However, spending less time on each claim inevitably erodes the quality of the settlements. Inadequate attention to documentation means the firm is less successful in litigation and subrogation, increasing settlement costs. Effort is wasted trying to locate and reconstruct evidence improperly recorded at the time of the loss, increasing the time required to settle and further intensifying time pressure in a vicious cycle. Less investigation and negotiation means settlements are likely to be inflated. Settlement costs increase as adjusters under time pressure tend to agree to a claimant's initial request, up to the amount they are authorized to pay without a supervisor's approval.\"\n",
    "\n",
    "- number of links in the text: 23\n",
    "- number of loops in the text: 6"
   ],
   "id": "1624eb3b734b4a89"
  },
  {
   "metadata": {
    "ExecuteTime": {
     "end_time": "2024-12-30T08:02:20.475477Z",
     "start_time": "2024-12-30T08:02:20.471959Z"
    }
   },
   "cell_type": "code",
   "source": [
    "case19 = r\"\"\"\n",
    "Individual adjusters in a claims organization constantly adjust the pace of work to control the backlog of pending claims. A high pending pool means more dissatisfied customers as claimants find themselves waiting longer. Claims processing centers carefully monitor the pending pool, regularly reporting various measures of work flow. An increase in incoming claims causes the pending pool to rise, intensifying the time pressure on each adjuster. Time pressure measures the adequacy of the adjuster staff and skills available to handle the current case load. There are only three ways in which high time pressure can be relieved: devote less time to each claim; increase work intensity; add adjuster capacity. Each option forms a balancing feedback process which seeks to restore time pressure to normal. However, the three channels for controlling the work flow involve very different time delays, costs, and side effects. Adding adjuster capacity means hiring additional adjusters, improving training, and reducing turnover, increasing time available and settlements, reducing the pending pool, and relieving time pressure. But building adjuster capacity takes time. New adjusters must be found, hired, and trained. Adjusting is a highly skilled profession, and the ability to handle complex claims effectively requires years of experience. Building capacity is also expensive and requires top-management authorization. Adding adjuster capacity was therefore the last resort in the organization. Increasing work intensity means longer work weeks, fewer breaks, and less time spent in 'nonproductive' activities such as talking with colleagues or training new hires, increasing the time spent settling claims and draining the pending pool. Overtime is frequently used to control the pending pool. However, sustained high work intensity produces stress, low morale, and burnout, lowering productivity and increasing turnover. By far the easiest and quickest way to control time pressure is to settle each claim faster. Individual adjusters have a high degree of control over the time they spend on a claim. They decide how aggressively to pursue investigation, whether to visit the claimant or handle the claim by 'telephone adjusting', how long to negotiate with the claimant, how much time to spend keeping records. When time pressure rises adjusters cut back on all of these activities, quickly cutting the pending pool and easing time pressure. However, spending less time on each claim inevitably erodes the quality of the settlements. Inadequate attention to documentation means the firm is less successful in litigation and subrogation, increasing settlement costs. Effort is wasted trying to locate and reconstruct evidence improperly recorded at the time of the loss, increasing the time required to settle and further intensifying time pressure in a vicious cycle. Less investigation and negotiation means settlements are likely to be inflated. Settlement costs increase as adjusters under time pressure tend to agree to a claimant's initial request, up to the amount they are authorized to pay without a supervisor's approval.\n",
    "\"\"\""
   ],
   "id": "6856b20b361f295f",
   "outputs": [],
   "execution_count": 83
  },
  {
   "metadata": {
    "ExecuteTime": {
     "end_time": "2024-12-30T08:03:21.738975Z",
     "start_time": "2024-12-30T08:02:30.953556Z"
    }
   },
   "cell_type": "code",
   "source": [
    "case19_responses = process_case_study(case19, system_messages)\n",
    "case19_openai_output = call_openai_for_cld(case19_responses[\"Final_Output\"])\n",
    "\n",
    "case19_graphviz_script = extract_graphviz_script(case19_openai_output)"
   ],
   "id": "8c3f9b23be3ca234",
   "outputs": [],
   "execution_count": 84
  },
  {
   "metadata": {
    "ExecuteTime": {
     "end_time": "2024-12-30T08:03:47.323949Z",
     "start_time": "2024-12-30T08:03:46.454586Z"
    }
   },
   "cell_type": "code",
   "source": [
    "case19_rendered_diagram = render_graphviz(case19_graphviz_script, output_file = \"case19_causal_loop_diagram\")\n",
    "case19_rendered_diagram.view()"
   ],
   "id": "cc37e055dc658bc8",
   "outputs": [
    {
     "data": {
      "text/plain": [
       "'case19_causal_loop_diagram.pdf'"
      ]
     },
     "execution_count": 85,
     "metadata": {},
     "output_type": "execute_result"
    }
   ],
   "execution_count": 85
  },
  {
   "metadata": {
    "ExecuteTime": {
     "end_time": "2024-12-30T08:04:17.385212Z",
     "start_time": "2024-12-30T08:04:17.380718Z"
    }
   },
   "cell_type": "code",
   "source": [
    "case19_output = f\"\"\"\n",
    "{case19_responses[\"Final_Output\"]}\n",
    "\n",
    "---\n",
    "\n",
    "{case19_openai_output}\n",
    "\"\"\"\n",
    "\n",
    "# Save the combined content to a Markdown file with UTF-8 encoding\n",
    "file_name = \"case19_combined_output.md\"\n",
    "\n",
    "with open(file_name, \"w\", encoding=\"utf-8\") as file:\n",
    "    file.write(case19_output)\n",
    "\n",
    "print(f\"Output successfully saved to {file_name}\")\n"
   ],
   "id": "f6424026fbda70ac",
   "outputs": [
    {
     "name": "stdout",
     "output_type": "stream",
     "text": [
      "Output successfully saved to case19_combined_output.md\n"
     ]
    }
   ],
   "execution_count": 86
  },
  {
   "metadata": {},
   "cell_type": "markdown",
   "source": [
    "### Case #20\n",
    "\n",
    "\"Due to the perfect climatic conditions, government subsidies, and low costs, producers have profited from the pistachio production over the past years. High profitability attracts producers’ attention to more cultivation. Higher rates of cultivation result in an increased level of orchards, which gives rise to the production, with a considerable delay. Increase in orchards area raises labor and water consumption, contributing to production. Since cultivating young orchards requires vast investments and around more than 5 years is needed to reach the highest yield levels, the associated fixed costs prevent the infinite revenue growth and balance the revenue–cost ratio. Moreover, orchards maintenance and materials used for production, labor compensation, and cost of acquiring water control the revenue growth. To have an economically harvestable yield, producers must irrigate orchards frequently. More orchards increase the need for more water; therefore, pumping from the groundwater, as the primary source of water in the region, surges. Accordingly, if the pumping is higher than the inflow to the ground water, which has been the case over the past decades, the ground water level declines, resulting in less available water. Lower water availability reduces pistachio production. Moreover, as the groundwater level decreases, the cost of acquiring water increases. This includes the cost of drilling, pumping, water-well maintenance, and so on, which hugely affects the profitability of farmers. Water inflow includes precipitation and laterflows to the groundwater.\n",
    "\"\n",
    "\n",
    "- number of links in the text: 23\n",
    "- number of loops in the text: 9"
   ],
   "id": "fd32b991662e8d51"
  },
  {
   "metadata": {
    "ExecuteTime": {
     "end_time": "2024-12-30T07:57:05.704682Z",
     "start_time": "2024-12-30T07:57:05.700666Z"
    }
   },
   "cell_type": "code",
   "source": [
    "case20 = r\"\"\"\n",
    "Due to the perfect climatic conditions, government subsidies, and low costs, producers have profited from the pistachio production over the past years. High profitability attracts producers’ attention to more cultivation. Higher rates of cultivation result in an increased level of orchards, which gives rise to the production, with a considerable delay. Increase in orchards area raises labor and water consumption, contributing to production. Since cultivating young orchards requires vast investments and around more than 5 years is needed to reach the highest yield levels, the associated fixed costs prevent the infinite revenue growth and balance the revenue–cost ratio. Moreover, orchards maintenance and materials used for production, labor compensation, and cost of acquiring water control the revenue growth. To have an economically harvestable yield, producers must irrigate orchards frequently. More orchards increase the need for more water; therefore, pumping from the groundwater, as the primary source of water in the region, surges. Accordingly, if the pumping is higher than the inflow to the ground water, which has been the case over the past decades, the ground water level declines, resulting in less available water. Lower water availability reduces pistachio production. Moreover, as the groundwater level decreases, the cost of acquiring water increases. This includes the cost of drilling, pumping, water-well maintenance, and so on, which hugely affects the profitability of farmers. Water inflow includes precipitation and laterflows to the groundwater.\n",
    "\"\"\""
   ],
   "id": "647ee01fdc8ef4cc",
   "outputs": [],
   "execution_count": 75
  },
  {
   "metadata": {
    "ExecuteTime": {
     "end_time": "2024-12-30T07:58:18.095398Z",
     "start_time": "2024-12-30T07:57:09.654500Z"
    }
   },
   "cell_type": "code",
   "source": [
    "case20_responses = process_case_study(case20, system_messages)\n",
    "case20_openai_output = call_openai_for_cld(case20_responses[\"Final_Output\"])\n",
    "\n",
    "case20_graphviz_script = extract_graphviz_script(case20_openai_output)"
   ],
   "id": "cfae2e859514efca",
   "outputs": [],
   "execution_count": 76
  },
  {
   "metadata": {
    "ExecuteTime": {
     "end_time": "2024-12-30T07:58:50.327757Z",
     "start_time": "2024-12-30T07:58:49.430861Z"
    }
   },
   "cell_type": "code",
   "source": [
    "case20_rendered_diagram = render_graphviz(case20_graphviz_script, output_file = \"case20_causal_loop_diagram\")\n",
    "case20_rendered_diagram.view()"
   ],
   "id": "5131c3e514ea1d2c",
   "outputs": [
    {
     "data": {
      "text/plain": [
       "'case20_causal_loop_diagram.pdf'"
      ]
     },
     "execution_count": 77,
     "metadata": {},
     "output_type": "execute_result"
    }
   ],
   "execution_count": 77
  },
  {
   "metadata": {
    "ExecuteTime": {
     "end_time": "2024-12-30T07:59:56.852469Z",
     "start_time": "2024-12-30T07:59:56.847908Z"
    }
   },
   "cell_type": "code",
   "source": [
    "case20_output = f\"\"\"\n",
    "{case20_responses[\"Final_Output\"]}\n",
    "\n",
    "---\n",
    "\n",
    "{case20_openai_output}\n",
    "\"\"\"\n",
    "\n",
    "# Save the combined content to a Markdown file with UTF-8 encoding\n",
    "file_name = \"case20_combined_output.md\"\n",
    "\n",
    "with open(file_name, \"w\", encoding=\"utf-8\") as file:\n",
    "    file.write(case20_output)\n",
    "\n",
    "print(f\"Output successfully saved to {file_name}\")\n"
   ],
   "id": "1e03c107a35f9265",
   "outputs": [
    {
     "name": "stdout",
     "output_type": "stream",
     "text": [
      "Output successfully saved to case20_combined_output.md\n"
     ]
    }
   ],
   "execution_count": 78
  }
 ],
 "metadata": {
  "kernelspec": {
   "display_name": "Python 3",
   "language": "python",
   "name": "python3"
  },
  "language_info": {
   "codemirror_mode": {
    "name": "ipython",
    "version": 2
   },
   "file_extension": ".py",
   "mimetype": "text/x-python",
   "name": "python",
   "nbconvert_exporter": "python",
   "pygments_lexer": "ipython2",
   "version": "2.7.6"
  }
 },
 "nbformat": 4,
 "nbformat_minor": 5
}
